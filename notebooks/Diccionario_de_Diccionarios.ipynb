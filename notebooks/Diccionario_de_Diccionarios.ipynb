{
 "cells": [
  {
   "cell_type": "code",
   "execution_count": null,
   "metadata": {},
   "outputs": [],
   "source": []
  },
  {
   "cell_type": "code",
   "execution_count": 4,
   "metadata": {},
   "outputs": [],
   "source": [
    "import json\n"
   ]
  },
  {
   "cell_type": "code",
   "execution_count": 6,
   "metadata": {},
   "outputs": [
    {
     "data": {
      "text/plain": [
       "{'concreto_fc150_L60': {'Name': 'concreto_fc150_L60',\n",
       "  'Roughness': 'MediumRough',\n",
       "  'Thickness {m}': 0.06,\n",
       "  'Conductivity {W/m-K}': 1.3,\n",
       "  'Density {kg/m3}': 1800.0,\n",
       "  'Specific Heat {J/kg-K}': 1000.0,\n",
       "  'Thermal Absorptance': 0.9,\n",
       "  'Solar Absorptance': 0.7,\n",
       "  'Visible Absorptance': 0.7,\n",
       "  'Comments': ''},\n",
       " 'madera_L20_a30': {'Name': 'madera_L20_a30',\n",
       "  'Roughness': 'Smooth',\n",
       "  'Thickness {m}': 0.02,\n",
       "  'Conductivity {W/m-K}': 0.14,\n",
       "  'Density {kg/m3}': 600.0,\n",
       "  'Specific Heat {J/kg-K}': 1210.0,\n",
       "  'Thermal Absorptance': 0.8,\n",
       "  'Solar Absorptance': 0.3,\n",
       "  'Visible Absorptance': 0.3,\n",
       "  'Comments': ''},\n",
       " 'loseta_L10_a70': {'Name': 'loseta_L10_a70',\n",
       "  'Roughness': 'Smooth',\n",
       "  'Thickness {m}': 0.01,\n",
       "  'Conductivity {W/m-K}': 0.7,\n",
       "  'Density {kg/m3}': 1970.0,\n",
       "  'Specific Heat {J/kg-K}': 800.0,\n",
       "  'Thermal Absorptance': 0.9,\n",
       "  'Solar Absorptance': 0.7,\n",
       "  'Visible Absorptance': 0.7,\n",
       "  'Comments': ''}}"
      ]
     },
     "execution_count": 6,
     "metadata": {},
     "output_type": "execute_result"
    }
   ],
   "source": [
    "with open('../data/002_processed/bloque_homogeneo_blanco_este.json') as file:\n",
    "    diccionario = json.load(file)\n",
    "diccionario"
   ]
  },
  {
   "cell_type": "code",
   "execution_count": 9,
   "metadata": {},
   "outputs": [],
   "source": [
    "diccionario.update({\"adamantum\": {\n",
    "    \"Name\": \"adamantum\",\n",
    "    \"Roughness\": \"Liso\",\n",
    "    \"Thickness {m}\": 0.001,\n",
    "    \"Conductivity {W/m-K}\": 666,\n",
    "    \"Density {kg/m3}\": 6400.0,\n",
    "    \"Specific Heat {J/kg-K}\": 999.0,\n",
    "    \"Comments\": \"Lo usa wolverine\"}})"
   ]
  },
  {
   "cell_type": "code",
   "execution_count": 10,
   "metadata": {},
   "outputs": [
    {
     "data": {
      "text/plain": [
       "{'concreto_fc150_L60': {'Name': 'concreto_fc150_L60',\n",
       "  'Roughness': 'MediumRough',\n",
       "  'Thickness {m}': 0.06,\n",
       "  'Conductivity {W/m-K}': 1.3,\n",
       "  'Density {kg/m3}': 1800.0,\n",
       "  'Specific Heat {J/kg-K}': 1000.0,\n",
       "  'Thermal Absorptance': 0.9,\n",
       "  'Solar Absorptance': 0.7,\n",
       "  'Visible Absorptance': 0.7,\n",
       "  'Comments': ''},\n",
       " 'madera_L20_a30': {'Name': 'madera_L20_a30',\n",
       "  'Roughness': 'Smooth',\n",
       "  'Thickness {m}': 0.02,\n",
       "  'Conductivity {W/m-K}': 0.14,\n",
       "  'Density {kg/m3}': 600.0,\n",
       "  'Specific Heat {J/kg-K}': 1210.0,\n",
       "  'Thermal Absorptance': 0.8,\n",
       "  'Solar Absorptance': 0.3,\n",
       "  'Visible Absorptance': 0.3,\n",
       "  'Comments': ''},\n",
       " 'loseta_L10_a70': {'Name': 'loseta_L10_a70',\n",
       "  'Roughness': 'Smooth',\n",
       "  'Thickness {m}': 0.01,\n",
       "  'Conductivity {W/m-K}': 0.7,\n",
       "  'Density {kg/m3}': 1970.0,\n",
       "  'Specific Heat {J/kg-K}': 800.0,\n",
       "  'Thermal Absorptance': 0.9,\n",
       "  'Solar Absorptance': 0.7,\n",
       "  'Visible Absorptance': 0.7,\n",
       "  'Comments': ''},\n",
       " 'adamantum': {'Name': 'adamantum',\n",
       "  'Roughness': 'Liso',\n",
       "  'Thickness {m}': 0.001,\n",
       "  'Conductivity {W/m-K}': 666,\n",
       "  'Density {kg/m3}': 6400.0,\n",
       "  'Specific Heat {J/kg-K}': 999.0,\n",
       "  'Comments': 'Lo usa wolverine'}}"
      ]
     },
     "execution_count": 10,
     "metadata": {},
     "output_type": "execute_result"
    }
   ],
   "source": [
    "diccionario"
   ]
  }
 ],
 "metadata": {
  "kernelspec": {
   "display_name": "Python 3",
   "language": "python",
   "name": "python3"
  },
  "language_info": {
   "codemirror_mode": {
    "name": "ipython",
    "version": 3
   },
   "file_extension": ".py",
   "mimetype": "text/x-python",
   "name": "python",
   "nbconvert_exporter": "python",
   "pygments_lexer": "ipython3",
   "version": "3.8.5"
  }
 },
 "nbformat": 4,
 "nbformat_minor": 4
}
