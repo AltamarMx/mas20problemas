{
 "cells": [
  {
   "cell_type": "markdown",
   "id": "ordinary-niagara",
   "metadata": {
    "slideshow": {
     "slide_type": "slide"
    }
   },
   "source": [
    "# view -> cell toolbar -> Slideshow"
   ]
  },
  {
   "cell_type": "markdown",
   "id": "curious-religious",
   "metadata": {
    "slideshow": {
     "slide_type": "slide"
    }
   },
   "source": [
    "## Truco 1: Presentaciones en la libreta"
   ]
  },
  {
   "cell_type": "code",
   "execution_count": 1,
   "id": "naughty-control",
   "metadata": {
    "slideshow": {
     "slide_type": "subslide"
    }
   },
   "outputs": [
    {
     "name": "stdout",
     "output_type": "stream",
     "text": [
      "hola munde\n"
     ]
    }
   ],
   "source": [
    "print(\"hola munde\")"
   ]
  },
  {
   "cell_type": "code",
   "execution_count": 2,
   "id": "enclosed-growth",
   "metadata": {
    "slideshow": {
     "slide_type": "fragment"
    }
   },
   "outputs": [
    {
     "data": {
      "text/plain": [
       "6"
      ]
     },
     "execution_count": 2,
     "metadata": {},
     "output_type": "execute_result"
    }
   ],
   "source": [
    "2 + 4"
   ]
  },
  {
   "cell_type": "markdown",
   "id": "stone-wellington",
   "metadata": {
    "slideshow": {
     "slide_type": "slide"
    }
   },
   "source": [
    "## Slide"
   ]
  },
  {
   "cell_type": "code",
   "execution_count": 5,
   "id": "interstate-dynamics",
   "metadata": {
    "slideshow": {
     "slide_type": "subslide"
    }
   },
   "outputs": [
    {
     "name": "stdout",
     "output_type": "stream",
     "text": [
      "this is sub slide\n"
     ]
    }
   ],
   "source": [
    "print(\"this is sub slide\")"
   ]
  },
  {
   "cell_type": "code",
   "execution_count": 9,
   "id": "animal-place",
   "metadata": {
    "slideshow": {
     "slide_type": "skip"
    }
   },
   "outputs": [],
   "source": [
    "def hola():\n",
    "    print(\"hola munde\")\n",
    "    print(\"esta se la salta\")"
   ]
  },
  {
   "cell_type": "markdown",
   "id": "settled-chance",
   "metadata": {
    "slideshow": {
     "slide_type": "notes"
    }
   },
   "source": [
    "#### Esta es una nota"
   ]
  },
  {
   "cell_type": "code",
   "execution_count": 6,
   "id": "marine-gregory",
   "metadata": {
    "slideshow": {
     "slide_type": "fragment"
    }
   },
   "outputs": [
    {
     "name": "stdout",
     "output_type": "stream",
     "text": [
      "this is a fragment\n"
     ]
    }
   ],
   "source": [
    "print(\"this is a fragment\")"
   ]
  },
  {
   "cell_type": "markdown",
   "id": "serious-recipe",
   "metadata": {
    "slideshow": {
     "slide_type": "slide"
    },
    "tags": [
     "kevin"
    ]
   },
   "source": [
    "# agrega tags\n",
    "view -> cell toolbar tags"
   ]
  },
  {
   "cell_type": "markdown",
   "id": "south-delay",
   "metadata": {},
   "source": [
    "### como pasar de esto"
   ]
  },
  {
   "cell_type": "code",
   "execution_count": null,
   "id": "attached-delivery",
   "metadata": {},
   "outputs": [],
   "source": [
    "a = 10\n",
    "b = 20\n",
    "c = 30\n"
   ]
  },
  {
   "cell_type": "markdown",
   "id": "renewable-keeping",
   "metadata": {},
   "source": [
    "### a esto"
   ]
  },
  {
   "cell_type": "code",
   "execution_count": null,
   "id": "wrong-communications",
   "metadata": {},
   "outputs": [],
   "source": [
    "a_v = 10\n",
    "b_v = 20\n",
    "c_v = 30\n"
   ]
  },
  {
   "cell_type": "markdown",
   "id": "automated-teens",
   "metadata": {},
   "source": [
    "### como pasar de esto:"
   ]
  },
  {
   "cell_type": "code",
   "execution_count": 10,
   "id": "certain-stocks",
   "metadata": {},
   "outputs": [
    {
     "name": "stdout",
     "output_type": "stream",
     "text": [
      "estoy desarrollando algo\n"
     ]
    }
   ],
   "source": [
    "a = 1\n",
    "b = 1\n",
    "print(\"estoy desarrollando algo\")\n",
    "c = a + b"
   ]
  },
  {
   "cell_type": "code",
   "execution_count": 11,
   "id": "economic-disabled",
   "metadata": {},
   "outputs": [],
   "source": [
    "def funcioncita():\n",
    "    \"\"\"Esta es una funcion documentada\"\"\"\n",
    "    a = 1\n",
    "    b = 1\n",
    "    print(\"estoy desarrollando algo\")\n",
    "    c = a + b\n",
    "    return c"
   ]
  },
  {
   "cell_type": "code",
   "execution_count": null,
   "id": "handed-output",
   "metadata": {},
   "outputs": [],
   "source": []
  }
 ],
 "metadata": {
  "celltoolbar": "Tags",
  "kernelspec": {
   "display_name": "Python 3",
   "language": "python",
   "name": "python3"
  },
  "language_info": {
   "codemirror_mode": {
    "name": "ipython",
    "version": 3
   },
   "file_extension": ".py",
   "mimetype": "text/x-python",
   "name": "python",
   "nbconvert_exporter": "python",
   "pygments_lexer": "ipython3",
   "version": "3.9.7"
  }
 },
 "nbformat": 4,
 "nbformat_minor": 5
}
