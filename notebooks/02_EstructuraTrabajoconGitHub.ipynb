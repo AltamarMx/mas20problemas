{
 "cells": [
  {
   "cell_type": "markdown",
   "id": "auburn-commons",
   "metadata": {},
   "source": [
    "# Estructura de trabajo con Github integrado\n",
    "\n",
    "1. Estructura de directorios, adaptado de [aqui](https://drivendata.github.io/cookiecutter-data-science/)\n",
    "\n",
    "```\n",
    "├── LICENSE\n",
    "├── Makefile           <- Makefile with commands like `make data` or `make train`\n",
    "├── README.md          <- The top-level README for developers using this project.\n",
    "├── data\n",
    "│   ├── processed      <- The final, canonical data sets for modeling.\n",
    "│   └── raw            <- The original, immutable data dump.\n",
    "│\n",
    "├── notebooks          <- Jupyter notebooks. Naming convention is a number (for ordering),\n",
    "│                         the creator's initials, and a short `-` delimited description, e.g.\n",
    "│                         `1.0-jqp-initial-data-exploration`.\n",
    "├── img                <- Figures or graphics used NOT generated but used in the notebooks\n",
    "│                         \n",
    "│                         \n",
    "│\n",
    "├── reports            <- Generated analysis as HTML, PDF, LaTeX, etc.\n",
    "│   └── figures        <- Generated graphics and figures to be used in reporting\n",
    "│\n",
    "├── requirements.txt   <- The requirements file for reproducing the analysis environment, e.g.\n",
    "                         generated with `pip freeze > requirements.txt`\n",
    "\n",
    "```\n",
    "1. GitHub\n",
    "    1. Git y GitHub ? \n",
    "    1. Abrir cuenta en github\n",
    "    1. Instalar y configurar git con github\n",
    "    1. Ejemplo de repo en github\n",
    "    1. Repo del curso \n",
    "\n",
    "\n"
   ]
  },
  {
   "cell_type": "code",
   "execution_count": null,
   "id": "b955dad9",
   "metadata": {},
   "outputs": [],
   "source": []
  },
  {
   "cell_type": "markdown",
   "id": "21e0b304",
   "metadata": {},
   "source": [
    "### A. ¿Qué es git  y github?"
   ]
  },
  {
   "cell_type": "markdown",
   "id": "3053fc27",
   "metadata": {},
   "source": [
    "<FONT SIZE=3>¿Qué es Git?</FONT></p>\n",
    "\n",
    "<FONT SIZE=3>Git es una herramienta que realiza una función del control de versiones de código de forma distribuida, de la que destacamos varias características:</FONT></p>\n",
    "\n",
    "* Es muy potente\n",
    "* Fue diseñada por Linus Torvalds\n",
    "* No depende de un repositorio central\n",
    "* Es software libre\n",
    "* Con ella podemos mantener un historial completo de versiones\n",
    "* Podemos movernos, como si tuviéramos un puntero en el tiempo, por todas las revisiones de código y desplazarnos una manera muy ágil.\n",
    "* Es muy rápida\n",
    "* Tiene un sistema de trabajo con ramas que lo hace especialmente potente\n",
    "* En cuanto a la funcionalidad de las ramas, las mismas están destinadas a provocar proyectos divergentes de un proyecto principal, para hacer experimentos o para probar nuevas funcionalidades.\n",
    "* Las ramas pueden tener una línea de progreso diferente de la rama principal donde está el core de nuestro desarrollo. En algún momento podemos llegar a probar algunas de esas mejoras o cambios en el código y hacer una fusión a nuestro proyecto principal, ya que todo esto lo maneja Git de una forma muy eficiente\n",
    "\n",
    "https://openwebinars.net/blog/que-es-git-y-para-que-sirve/"
   ]
  },
  {
   "cell_type": "markdown",
   "id": "ba5dad64",
   "metadata": {},
   "source": [
    "<p><FONT SIZE=3>¿Qué es Github?</FONT></p>\n",
    "\n",
    "<p><FONT SIZE=3>Github es una herramienta que nos permite tener nuestros repositiorios de Git en la nube. Esto nos permite centralizar el contenido del repositorio para poder colaborar con otros miembros de nuestra organización.\n",
    "\n",
    "Git nos permite conectarnos remotamente, con otros repositorios, pudiendo subir los commits a este repositorio que se crea en Github y teniendo el proyecto subido y marcado en un servidor.</FONT></p>\n",
    "\n",
    "https://openwebinars.net/blog/que-es-github/"
   ]
  },
  {
   "cell_type": "code",
   "execution_count": null,
   "id": "7a2cdd80",
   "metadata": {},
   "outputs": [],
   "source": []
  },
  {
   "cell_type": "markdown",
   "id": "b1d8e854",
   "metadata": {},
   "source": [
    "<img src=\"https://blog.devmountain.com/hs-fs/hubfs/Imported_Blog_Media/Gitvs_Github-1a-1.jpg?width=600&name=Gitvs_Github-1a-1.jpg\">"
   ]
  },
  {
   "cell_type": "markdown",
   "id": "731a5d43",
   "metadata": {},
   "source": [
    "### B. Abrir cuenta en github"
   ]
  },
  {
   "cell_type": "markdown",
   "id": "1197ca3d",
   "metadata": {},
   "source": [
    "\n",
    "https://github.com/signup?source=login"
   ]
  },
  {
   "cell_type": "markdown",
   "id": "eec494f8",
   "metadata": {},
   "source": [
    "### C. Instalar y configurar git con github"
   ]
  },
  {
   "cell_type": "markdown",
   "id": "b6335cff",
   "metadata": {},
   "source": [
    "### Instalar git en Windows"
   ]
  },
  {
   "cell_type": "raw",
   "id": "c92efa7a",
   "metadata": {},
   "source": [
    "Windows\n",
    "\n",
    "Download the Git for Windows installer. (https://gitforwindows.org/)\n",
    "Run the installer and follow the steps below:\n",
    "\n",
    "Click on \"Next\" four times (two times if you've previously installed Git). You don't need to change anything in the Information, location, components, and start menu screens.\n",
    "\n",
    "From the dropdown menu select \"Use the Nano editor by default\" (NOTE: you will need to scroll up to find it) and click on \"Next\".\n",
    "\n",
    "On the page that says \"Adjusting the name of the initial branch in new repositories\", ensure that \"Let Git decide\" is selected. This will ensure the highest level of compatibility for our lessons.\n",
    "\n",
    "Ensure that \"Git from the command line and also from 3rd-party software\" is selected and click on \"Next\". (If you don't do this Git Bash will not work properly, requiring you to remove the Git Bash installation, re-run the installer and to select the \"Git from the command line and also from 3rd-party software\" option.)\n",
    "Ensure that \"Use the native Windows Secure Channel Library\" is selected and click on \"Next\".\n",
    "\n",
    "Ensure that \"Checkout Windows-style, commit Unix-style line endings\" is selected and click on \"Next\".\n",
    "\n",
    "Ensure that \"Use Windows' default console window\" is selected and click on \"Next\".\n",
    "\n",
    "Ensure that \"Default (fast-forward or merge) is selected and click \"Next\".\n",
    "\n",
    "Ensure that \"Git Credential Manager Core\" is selected and click on \"Next\".\n",
    "\n",
    "Ensure that \"Enable file system caching\" is selected and click on \"Next\".\n",
    "\n",
    "Click on \"Install\".\n",
    "\n",
    "Click on \"Finish\" or \"Next\".\n",
    "\n",
    "If your \"HOME\" environment variable is not set (or you don't know what this is):\n",
    "Open command prompt (Open Start Menu then type cmd and press Enter)\n",
    "Type the following line into the command prompt window exactly as shown:\n",
    "setx HOME \"%USERPROFILE%\"\n",
    "\n",
    "Press Enter, you should see SUCCESS: Specified value was saved.\n",
    "Quit command prompt by typing exit then pressing Enter\n",
    "This will provide you with both Git and Bash in the Git Bash program."
   ]
  },
  {
   "cell_type": "markdown",
   "id": "3b1b0402",
   "metadata": {},
   "source": [
    "### Instalar git en Mac os"
   ]
  },
  {
   "cell_type": "raw",
   "id": "65d59c8d",
   "metadata": {},
   "source": [
    "mac os\n",
    "\n",
    "For macOS, install Git for Mac by downloading and running the most recent \"mavericks\" installer from this list (https://sourceforge.net/projects/git-osx-installer/files/). Because this installer is not signed by the developer, you may have to right click (control click) on the .pkg file, click Open, and click Open on the pop up window. After installing Git, there will not be anything in your /Applications folder, as Git is a command line program. For older versions of OS X (10.5-10.8) use the most recent available installer labelled \"snow-leopard\" available here.\n",
    "\n",
    "https://sourceforge.net/projects/git-osx-installer/files/"
   ]
  },
  {
   "cell_type": "markdown",
   "id": "b6cb7b34",
   "metadata": {},
   "source": [
    "### Instalar git en linux\n"
   ]
  },
  {
   "cell_type": "raw",
   "id": "b1c79b48",
   "metadata": {},
   "source": [
    "linux\n",
    "\n",
    "If Git is not already available on your machine you can try to install it via your distro's package manager. For Debian/Ubuntu run sudo apt-get install git and for Fedora run sudo dnf install git."
   ]
  },
  {
   "cell_type": "markdown",
   "id": "703f25af",
   "metadata": {},
   "source": [
    "### D. Ejemplo de repo en github"
   ]
  },
  {
   "cell_type": "markdown",
   "id": "f80d3097",
   "metadata": {},
   "source": [
    "Repositorio crash_course_Python: https://github.com/AltamarMx/crash_course_Python\n",
    "\n",
    "Liga al repositorio con git: https://github.com/AltamarMx/crash_course_Python.git"
   ]
  },
  {
   "cell_type": "markdown",
   "id": "661c1108",
   "metadata": {},
   "source": [
    "#### Clonando y haciendo cambios en el repositorio"
   ]
  },
  {
   "cell_type": "markdown",
   "id": "fd6a9d4c",
   "metadata": {},
   "source": [
    "Desde consola\n",
    "\n",
    "git clone https://github.com/AltamarMx/crash_course_Python.git\n",
    "\n",
    "Entramos al directorio crash_course_Python\n",
    "\n",
    "Lanzamos jupyter notebook\n",
    "\n",
    "Hacemos modificaciones a nuestras libretas"
   ]
  },
  {
   "cell_type": "raw",
   "id": "631f8846",
   "metadata": {},
   "source": [
    "Rastreamos y empujamos los cambios al repositorio\n",
    "\n",
    "Desde concola y dentro del directorio crash_course_Python\n",
    "\n",
    "\n",
    "git add .\n",
    "\n",
    "git status\n",
    "\n",
    "git commit -m \"Mensaje de cambios en el repositorio\"\n",
    "\n",
    "git push"
   ]
  },
  {
   "cell_type": "markdown",
   "id": "e447a225",
   "metadata": {},
   "source": [
    "### E. Repo del curso"
   ]
  },
  {
   "cell_type": "markdown",
   "id": "d063a8e5",
   "metadata": {},
   "source": [
    "Repositorio: https://github.com/AltamarMx/mas20problemas\n",
    "\n",
    "Liga al repositorio con git: https://github.com/AltamarMx/mas20problemas.git"
   ]
  },
  {
   "cell_type": "code",
   "execution_count": null,
   "id": "17915b65",
   "metadata": {},
   "outputs": [],
   "source": []
  }
 ],
 "metadata": {
  "kernelspec": {
   "display_name": "Python 3 (ipykernel)",
   "language": "python",
   "name": "python3"
  },
  "language_info": {
   "codemirror_mode": {
    "name": "ipython",
    "version": 3
   },
   "file_extension": ".py",
   "mimetype": "text/x-python",
   "name": "python",
   "nbconvert_exporter": "python",
   "pygments_lexer": "ipython3",
   "version": "3.9.7"
  }
 },
 "nbformat": 4,
 "nbformat_minor": 5
}
