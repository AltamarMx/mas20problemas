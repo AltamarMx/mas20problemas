{
 "cells": [
  {
   "cell_type": "markdown",
   "id": "thousand-economics",
   "metadata": {
    "slideshow": {
     "slide_type": "slide"
    }
   },
   "source": [
    "# view -> cell toolbar -> Slideshow"
   ]
  },
  {
   "cell_type": "markdown",
   "id": "adjustable-bathroom",
   "metadata": {
    "slideshow": {
     "slide_type": "slide"
    }
   },
   "source": [
    "## Truco 1: Presentaciones en la libreta"
   ]
  },
  {
   "cell_type": "code",
   "execution_count": 1,
   "id": "renewable-cookbook",
   "metadata": {
    "slideshow": {
     "slide_type": "subslide"
    }
   },
   "outputs": [
    {
     "name": "stdout",
     "output_type": "stream",
     "text": [
      "hola munde\n"
     ]
    }
   ],
   "source": [
    "print(\"hola munde\")"
   ]
  },
  {
   "cell_type": "code",
   "execution_count": 2,
   "id": "interested-indie",
   "metadata": {
    "slideshow": {
     "slide_type": "fragment"
    }
   },
   "outputs": [
    {
     "data": {
      "text/plain": [
       "6"
      ]
     },
     "execution_count": 2,
     "metadata": {},
     "output_type": "execute_result"
    }
   ],
   "source": [
    "2 + 4"
   ]
  },
  {
   "cell_type": "markdown",
   "id": "ecological-olive",
   "metadata": {
    "slideshow": {
     "slide_type": "slide"
    }
   },
   "source": [
    "## Slide"
   ]
  },
  {
   "cell_type": "code",
   "execution_count": 5,
   "id": "contemporary-peoples",
   "metadata": {
    "slideshow": {
     "slide_type": "subslide"
    }
   },
   "outputs": [
    {
     "name": "stdout",
     "output_type": "stream",
     "text": [
      "this is sub slide\n"
     ]
    }
   ],
   "source": [
    "print(\"this is sub slide\")"
   ]
  },
  {
   "cell_type": "code",
   "execution_count": 9,
   "id": "usual-induction",
   "metadata": {
    "slideshow": {
     "slide_type": "skip"
    }
   },
   "outputs": [],
   "source": [
    "def hola():\n",
    "    print(\"hola munde\")\n",
    "    print(\"esta se la salta\")"
   ]
  },
  {
   "cell_type": "markdown",
   "id": "instant-input",
   "metadata": {
    "slideshow": {
     "slide_type": "notes"
    }
   },
   "source": [
    "#### Esta es una nota"
   ]
  },
  {
   "cell_type": "code",
   "execution_count": 6,
   "id": "duplicate-powder",
   "metadata": {
    "slideshow": {
     "slide_type": "fragment"
    }
   },
   "outputs": [
    {
     "name": "stdout",
     "output_type": "stream",
     "text": [
      "this is a fragment\n"
     ]
    }
   ],
   "source": [
    "print(\"this is a fragment\")"
   ]
  },
  {
   "cell_type": "markdown",
   "id": "acceptable-extra",
   "metadata": {
    "slideshow": {
     "slide_type": "slide"
    },
    "tags": [
     "kevin"
    ]
   },
   "source": [
    "# agrega tags\n",
    "view -> cell toolbar tags"
   ]
  },
  {
   "cell_type": "code",
   "execution_count": null,
   "id": "irish-adams",
   "metadata": {},
   "outputs": [],
   "source": []
  }
 ],
 "metadata": {
  "celltoolbar": "Tags",
  "kernelspec": {
   "display_name": "Python 3",
   "language": "python",
   "name": "python3"
  },
  "language_info": {
   "codemirror_mode": {
    "name": "ipython",
    "version": 3
   },
   "file_extension": ".py",
   "mimetype": "text/x-python",
   "name": "python",
   "nbconvert_exporter": "python",
   "pygments_lexer": "ipython3",
   "version": "3.9.7"
  }
 },
 "nbformat": 4,
 "nbformat_minor": 5
}
