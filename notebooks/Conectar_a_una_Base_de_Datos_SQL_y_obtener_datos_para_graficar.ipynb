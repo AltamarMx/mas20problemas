{
 "cells": [
  {
   "cell_type": "markdown",
   "id": "2aac772d",
   "metadata": {},
   "source": [
    "## Base de datos\n"
   ]
  },
  {
   "cell_type": "markdown",
   "id": "3ebd42f4",
   "metadata": {},
   "source": [
    "\n",
    "Una base de datos es una recopilación organizada de información o datos estructurados, que normalmente se almacena de forma electrónica en un sistema informático. Normalmente, una base de datos está controlada por un sistema de gestión de bases de datos (DBMS). En conjunto, los datos y el DBMS, junto con las aplicaciones asociadas a ellos, reciben el nombre de sistema de bases de datos, abreviado normalmente a simplemente base de datos.\n",
    "\n",
    "Los datos de los tipos más comunes de bases de datos en funcionamiento actualmente se suelen utilizar como estructuras de filas y columnas en una serie de tablas para aumentar la eficacia del procesamiento y la consulta de datos. Así, se puede acceder, gestionar, modificar, actualizar, controlar y organizar fácilmente los datos. La mayoría de las bases de datos utilizan un lenguaje de consulta estructurada (SQL) para escribir y consultar datos.\n",
    "\n",
    "https://www.oracle.com/mx/database/what-is-database/"
   ]
  },
  {
   "cell_type": "markdown",
   "id": "22e89a05",
   "metadata": {},
   "source": [
    "SQLite es un sistema de gestión de bases de datos relacional, permite tener una base de datos en un archivo y poder realizar consultas."
   ]
  },
  {
   "cell_type": "markdown",
   "id": "225f8472",
   "metadata": {},
   "source": [
    "## Conectar python con una Base de Datos SQLite"
   ]
  },
  {
   "cell_type": "code",
   "execution_count": 2,
   "id": "a69ef49c",
   "metadata": {},
   "outputs": [],
   "source": [
    "import sqlite3 as sql\n",
    "import pandas as pd\n",
    "import numpy as np"
   ]
  },
  {
   "cell_type": "markdown",
   "id": "31b5c9aa",
   "metadata": {},
   "source": [
    "### Prueba de conexión"
   ]
  },
  {
   "cell_type": "code",
   "execution_count": 3,
   "id": "928579a1",
   "metadata": {},
   "outputs": [
    {
     "name": "stdout",
     "output_type": "stream",
     "text": [
      "Database created and Successfully Connected to SQLite\n",
      "SQLite Database Version is:  [('3.36.0',)]\n",
      "The SQLite connection is closed\n"
     ]
    }
   ],
   "source": [
    "try:\n",
    "    sqliteConnection = sql.connect('../data/001_raw/temixco.sqlite')\n",
    "    cursor = sqliteConnection.cursor()\n",
    "    print(\"Database created and Successfully Connected to SQLite\")\n",
    "\n",
    "    sqlite_select_Query = \"select sqlite_version();\"\n",
    "    cursor.execute(sqlite_select_Query)\n",
    "    record = cursor.fetchall()\n",
    "    print(\"SQLite Database Version is: \", record)\n",
    "    cursor.close()\n",
    "\n",
    "except sql.Error as error:\n",
    "    print(\"Error while connecting to sqlite\", error)\n",
    "finally:\n",
    "    if sqliteConnection:\n",
    "        sqliteConnection.close()\n",
    "        print(\"The SQLite connection is closed\")"
   ]
  },
  {
   "cell_type": "code",
   "execution_count": 4,
   "id": "a5f00765",
   "metadata": {},
   "outputs": [],
   "source": [
    "conecta = sql.connect(\"../data/001_raw/temixco.sqlite\")"
   ]
  },
  {
   "cell_type": "markdown",
   "id": "a1c3a956",
   "metadata": {},
   "source": [
    "### Explorando las tablas de la base de datos"
   ]
  },
  {
   "cell_type": "code",
   "execution_count": 5,
   "id": "cf81fa84",
   "metadata": {},
   "outputs": [
    {
     "name": "stdout",
     "output_type": "stream",
     "text": [
      "[('temixco',)]\n"
     ]
    }
   ],
   "source": [
    "cursor = conecta.cursor()\n",
    "\n",
    "cursor.execute(\"SELECT name FROM sqlite_master WHERE type='table';\")\n",
    "print(cursor.fetchall())"
   ]
  },
  {
   "cell_type": "markdown",
   "id": "c865a847",
   "metadata": {},
   "source": [
    "### Consultando datos de una tabla"
   ]
  },
  {
   "cell_type": "code",
   "execution_count": 6,
   "id": "fc4f2a9e",
   "metadata": {},
   "outputs": [],
   "source": [
    "consulta = \"\"\"SELECT * FROM  temixco \"\"\"\n",
    "dfDatosTemixco = pd.read_sql_query(consulta,con=conecta)"
   ]
  },
  {
   "cell_type": "code",
   "execution_count": null,
   "id": "8fee8fdc",
   "metadata": {},
   "outputs": [],
   "source": []
  },
  {
   "cell_type": "code",
   "execution_count": 7,
   "id": "6468587b",
   "metadata": {
    "scrolled": false
   },
   "outputs": [
    {
     "data": {
      "text/html": [
       "<div>\n",
       "<style scoped>\n",
       "    .dataframe tbody tr th:only-of-type {\n",
       "        vertical-align: middle;\n",
       "    }\n",
       "\n",
       "    .dataframe tbody tr th {\n",
       "        vertical-align: top;\n",
       "    }\n",
       "\n",
       "    .dataframe thead th {\n",
       "        text-align: right;\n",
       "    }\n",
       "</style>\n",
       "<table border=\"1\" class=\"dataframe\">\n",
       "  <thead>\n",
       "    <tr style=\"text-align: right;\">\n",
       "      <th></th>\n",
       "      <th>time</th>\n",
       "      <th>Ib</th>\n",
       "      <th>Ig</th>\n",
       "      <th>To</th>\n",
       "      <th>RH</th>\n",
       "      <th>WS</th>\n",
       "      <th>WD</th>\n",
       "      <th>P</th>\n",
       "    </tr>\n",
       "  </thead>\n",
       "  <tbody>\n",
       "    <tr>\n",
       "      <th>0</th>\n",
       "      <td>2018-01-01 00:00:00</td>\n",
       "      <td></td>\n",
       "      <td></td>\n",
       "      <td>18.7</td>\n",
       "      <td>36.34</td>\n",
       "      <td>1.422</td>\n",
       "      <td>316.0</td>\n",
       "      <td>87864.11</td>\n",
       "    </tr>\n",
       "    <tr>\n",
       "      <th>1</th>\n",
       "      <td>2018-01-01 00:10:00</td>\n",
       "      <td>0.002</td>\n",
       "      <td>0.0</td>\n",
       "      <td>18.95</td>\n",
       "      <td>35.29</td>\n",
       "      <td>1.008</td>\n",
       "      <td>283.7</td>\n",
       "      <td>87876.37</td>\n",
       "    </tr>\n",
       "    <tr>\n",
       "      <th>2</th>\n",
       "      <td>2018-01-01 00:20:00</td>\n",
       "      <td>0.17</td>\n",
       "      <td>0.0</td>\n",
       "      <td>18.94</td>\n",
       "      <td>35.43</td>\n",
       "      <td>1.565</td>\n",
       "      <td>326.0</td>\n",
       "      <td>87888.64</td>\n",
       "    </tr>\n",
       "    <tr>\n",
       "      <th>3</th>\n",
       "      <td>2018-01-01 00:30:00</td>\n",
       "      <td>0.371</td>\n",
       "      <td>0.0</td>\n",
       "      <td>18.77</td>\n",
       "      <td>35.89</td>\n",
       "      <td>2.175</td>\n",
       "      <td>354.5</td>\n",
       "      <td>87887.21</td>\n",
       "    </tr>\n",
       "    <tr>\n",
       "      <th>4</th>\n",
       "      <td>2018-01-01 00:40:00</td>\n",
       "      <td>0.305</td>\n",
       "      <td>0.0</td>\n",
       "      <td>18.81</td>\n",
       "      <td>36.34</td>\n",
       "      <td>1.902</td>\n",
       "      <td>348.0</td>\n",
       "      <td>87886.90999999999</td>\n",
       "    </tr>\n",
       "    <tr>\n",
       "      <th>...</th>\n",
       "      <td>...</td>\n",
       "      <td>...</td>\n",
       "      <td>...</td>\n",
       "      <td>...</td>\n",
       "      <td>...</td>\n",
       "      <td>...</td>\n",
       "      <td>...</td>\n",
       "      <td>...</td>\n",
       "    </tr>\n",
       "    <tr>\n",
       "      <th>52555</th>\n",
       "      <td>2018-12-31 23:10:00</td>\n",
       "      <td>0.125</td>\n",
       "      <td>0.0</td>\n",
       "      <td>18.51</td>\n",
       "      <td>47.29</td>\n",
       "      <td>1.715</td>\n",
       "      <td>332.2</td>\n",
       "      <td>87484.32</td>\n",
       "    </tr>\n",
       "    <tr>\n",
       "      <th>52556</th>\n",
       "      <td>2018-12-31 23:20:00</td>\n",
       "      <td>0.0</td>\n",
       "      <td>0.0</td>\n",
       "      <td>18.26</td>\n",
       "      <td>48.02</td>\n",
       "      <td>1.703</td>\n",
       "      <td>320.5</td>\n",
       "      <td>87470.7</td>\n",
       "    </tr>\n",
       "    <tr>\n",
       "      <th>52557</th>\n",
       "      <td>2018-12-31 23:30:00</td>\n",
       "      <td>0.044</td>\n",
       "      <td>0.0</td>\n",
       "      <td>18.39</td>\n",
       "      <td>46.84</td>\n",
       "      <td>2.887</td>\n",
       "      <td>335.7</td>\n",
       "      <td>87455.03</td>\n",
       "    </tr>\n",
       "    <tr>\n",
       "      <th>52558</th>\n",
       "      <td>2018-12-31 23:40:00</td>\n",
       "      <td>0.17</td>\n",
       "      <td>0.0</td>\n",
       "      <td>17.99</td>\n",
       "      <td>47.85</td>\n",
       "      <td>1.528</td>\n",
       "      <td>358.8</td>\n",
       "      <td>87470.02</td>\n",
       "    </tr>\n",
       "    <tr>\n",
       "      <th>52559</th>\n",
       "      <td>2018-12-31 23:50:00</td>\n",
       "      <td>0.003</td>\n",
       "      <td>0.0</td>\n",
       "      <td>17.75</td>\n",
       "      <td>49.65</td>\n",
       "      <td>0.598</td>\n",
       "      <td>322.3</td>\n",
       "      <td>87467.29</td>\n",
       "    </tr>\n",
       "  </tbody>\n",
       "</table>\n",
       "<p>52560 rows × 8 columns</p>\n",
       "</div>"
      ],
      "text/plain": [
       "                      time     Ib   Ig     To     RH     WS     WD  \\\n",
       "0      2018-01-01 00:00:00               18.7  36.34  1.422  316.0   \n",
       "1      2018-01-01 00:10:00  0.002  0.0  18.95  35.29  1.008  283.7   \n",
       "2      2018-01-01 00:20:00   0.17  0.0  18.94  35.43  1.565  326.0   \n",
       "3      2018-01-01 00:30:00  0.371  0.0  18.77  35.89  2.175  354.5   \n",
       "4      2018-01-01 00:40:00  0.305  0.0  18.81  36.34  1.902  348.0   \n",
       "...                    ...    ...  ...    ...    ...    ...    ...   \n",
       "52555  2018-12-31 23:10:00  0.125  0.0  18.51  47.29  1.715  332.2   \n",
       "52556  2018-12-31 23:20:00    0.0  0.0  18.26  48.02  1.703  320.5   \n",
       "52557  2018-12-31 23:30:00  0.044  0.0  18.39  46.84  2.887  335.7   \n",
       "52558  2018-12-31 23:40:00   0.17  0.0  17.99  47.85  1.528  358.8   \n",
       "52559  2018-12-31 23:50:00  0.003  0.0  17.75  49.65  0.598  322.3   \n",
       "\n",
       "                       P  \n",
       "0               87864.11  \n",
       "1               87876.37  \n",
       "2               87888.64  \n",
       "3               87887.21  \n",
       "4      87886.90999999999  \n",
       "...                  ...  \n",
       "52555           87484.32  \n",
       "52556            87470.7  \n",
       "52557           87455.03  \n",
       "52558           87470.02  \n",
       "52559           87467.29  \n",
       "\n",
       "[52560 rows x 8 columns]"
      ]
     },
     "execution_count": 7,
     "metadata": {},
     "output_type": "execute_result"
    }
   ],
   "source": [
    "dfDatosTemixco"
   ]
  },
  {
   "cell_type": "code",
   "execution_count": 8,
   "id": "87506023",
   "metadata": {},
   "outputs": [],
   "source": [
    "dfDatosTemixco.set_index(\"time\",inplace = True)"
   ]
  },
  {
   "cell_type": "code",
   "execution_count": 9,
   "id": "a3adf070",
   "metadata": {},
   "outputs": [],
   "source": [
    "dfDatosTemixco.index = pd.to_datetime(dfDatosTemixco.index)"
   ]
  },
  {
   "cell_type": "code",
   "execution_count": 10,
   "id": "0df88050",
   "metadata": {},
   "outputs": [
    {
     "data": {
      "text/html": [
       "<div>\n",
       "<style scoped>\n",
       "    .dataframe tbody tr th:only-of-type {\n",
       "        vertical-align: middle;\n",
       "    }\n",
       "\n",
       "    .dataframe tbody tr th {\n",
       "        vertical-align: top;\n",
       "    }\n",
       "\n",
       "    .dataframe thead th {\n",
       "        text-align: right;\n",
       "    }\n",
       "</style>\n",
       "<table border=\"1\" class=\"dataframe\">\n",
       "  <thead>\n",
       "    <tr style=\"text-align: right;\">\n",
       "      <th></th>\n",
       "      <th>Ib</th>\n",
       "      <th>Ig</th>\n",
       "      <th>To</th>\n",
       "      <th>RH</th>\n",
       "      <th>WS</th>\n",
       "      <th>WD</th>\n",
       "      <th>P</th>\n",
       "    </tr>\n",
       "    <tr>\n",
       "      <th>time</th>\n",
       "      <th></th>\n",
       "      <th></th>\n",
       "      <th></th>\n",
       "      <th></th>\n",
       "      <th></th>\n",
       "      <th></th>\n",
       "      <th></th>\n",
       "    </tr>\n",
       "  </thead>\n",
       "  <tbody>\n",
       "    <tr>\n",
       "      <th>2018-01-01 00:00:00</th>\n",
       "      <td></td>\n",
       "      <td></td>\n",
       "      <td>18.7</td>\n",
       "      <td>36.34</td>\n",
       "      <td>1.422</td>\n",
       "      <td>316.0</td>\n",
       "      <td>87864.11</td>\n",
       "    </tr>\n",
       "    <tr>\n",
       "      <th>2018-01-01 00:10:00</th>\n",
       "      <td>0.002</td>\n",
       "      <td>0.0</td>\n",
       "      <td>18.95</td>\n",
       "      <td>35.29</td>\n",
       "      <td>1.008</td>\n",
       "      <td>283.7</td>\n",
       "      <td>87876.37</td>\n",
       "    </tr>\n",
       "    <tr>\n",
       "      <th>2018-01-01 00:20:00</th>\n",
       "      <td>0.17</td>\n",
       "      <td>0.0</td>\n",
       "      <td>18.94</td>\n",
       "      <td>35.43</td>\n",
       "      <td>1.565</td>\n",
       "      <td>326.0</td>\n",
       "      <td>87888.64</td>\n",
       "    </tr>\n",
       "    <tr>\n",
       "      <th>2018-01-01 00:30:00</th>\n",
       "      <td>0.371</td>\n",
       "      <td>0.0</td>\n",
       "      <td>18.77</td>\n",
       "      <td>35.89</td>\n",
       "      <td>2.175</td>\n",
       "      <td>354.5</td>\n",
       "      <td>87887.21</td>\n",
       "    </tr>\n",
       "    <tr>\n",
       "      <th>2018-01-01 00:40:00</th>\n",
       "      <td>0.305</td>\n",
       "      <td>0.0</td>\n",
       "      <td>18.81</td>\n",
       "      <td>36.34</td>\n",
       "      <td>1.902</td>\n",
       "      <td>348.0</td>\n",
       "      <td>87886.90999999999</td>\n",
       "    </tr>\n",
       "    <tr>\n",
       "      <th>...</th>\n",
       "      <td>...</td>\n",
       "      <td>...</td>\n",
       "      <td>...</td>\n",
       "      <td>...</td>\n",
       "      <td>...</td>\n",
       "      <td>...</td>\n",
       "      <td>...</td>\n",
       "    </tr>\n",
       "    <tr>\n",
       "      <th>2018-12-31 23:10:00</th>\n",
       "      <td>0.125</td>\n",
       "      <td>0.0</td>\n",
       "      <td>18.51</td>\n",
       "      <td>47.29</td>\n",
       "      <td>1.715</td>\n",
       "      <td>332.2</td>\n",
       "      <td>87484.32</td>\n",
       "    </tr>\n",
       "    <tr>\n",
       "      <th>2018-12-31 23:20:00</th>\n",
       "      <td>0.0</td>\n",
       "      <td>0.0</td>\n",
       "      <td>18.26</td>\n",
       "      <td>48.02</td>\n",
       "      <td>1.703</td>\n",
       "      <td>320.5</td>\n",
       "      <td>87470.7</td>\n",
       "    </tr>\n",
       "    <tr>\n",
       "      <th>2018-12-31 23:30:00</th>\n",
       "      <td>0.044</td>\n",
       "      <td>0.0</td>\n",
       "      <td>18.39</td>\n",
       "      <td>46.84</td>\n",
       "      <td>2.887</td>\n",
       "      <td>335.7</td>\n",
       "      <td>87455.03</td>\n",
       "    </tr>\n",
       "    <tr>\n",
       "      <th>2018-12-31 23:40:00</th>\n",
       "      <td>0.17</td>\n",
       "      <td>0.0</td>\n",
       "      <td>17.99</td>\n",
       "      <td>47.85</td>\n",
       "      <td>1.528</td>\n",
       "      <td>358.8</td>\n",
       "      <td>87470.02</td>\n",
       "    </tr>\n",
       "    <tr>\n",
       "      <th>2018-12-31 23:50:00</th>\n",
       "      <td>0.003</td>\n",
       "      <td>0.0</td>\n",
       "      <td>17.75</td>\n",
       "      <td>49.65</td>\n",
       "      <td>0.598</td>\n",
       "      <td>322.3</td>\n",
       "      <td>87467.29</td>\n",
       "    </tr>\n",
       "  </tbody>\n",
       "</table>\n",
       "<p>52560 rows × 7 columns</p>\n",
       "</div>"
      ],
      "text/plain": [
       "                        Ib   Ig     To     RH     WS     WD                  P\n",
       "time                                                                          \n",
       "2018-01-01 00:00:00               18.7  36.34  1.422  316.0           87864.11\n",
       "2018-01-01 00:10:00  0.002  0.0  18.95  35.29  1.008  283.7           87876.37\n",
       "2018-01-01 00:20:00   0.17  0.0  18.94  35.43  1.565  326.0           87888.64\n",
       "2018-01-01 00:30:00  0.371  0.0  18.77  35.89  2.175  354.5           87887.21\n",
       "2018-01-01 00:40:00  0.305  0.0  18.81  36.34  1.902  348.0  87886.90999999999\n",
       "...                    ...  ...    ...    ...    ...    ...                ...\n",
       "2018-12-31 23:10:00  0.125  0.0  18.51  47.29  1.715  332.2           87484.32\n",
       "2018-12-31 23:20:00    0.0  0.0  18.26  48.02  1.703  320.5            87470.7\n",
       "2018-12-31 23:30:00  0.044  0.0  18.39  46.84  2.887  335.7           87455.03\n",
       "2018-12-31 23:40:00   0.17  0.0  17.99  47.85  1.528  358.8           87470.02\n",
       "2018-12-31 23:50:00  0.003  0.0  17.75  49.65  0.598  322.3           87467.29\n",
       "\n",
       "[52560 rows x 7 columns]"
      ]
     },
     "execution_count": 10,
     "metadata": {},
     "output_type": "execute_result"
    }
   ],
   "source": [
    "dfDatosTemixco"
   ]
  },
  {
   "cell_type": "markdown",
   "id": "fe0a5da2",
   "metadata": {},
   "source": [
    "### Consultando el encabezado del df"
   ]
  },
  {
   "cell_type": "code",
   "execution_count": 11,
   "id": "4674216f",
   "metadata": {},
   "outputs": [
    {
     "data": {
      "text/html": [
       "<div>\n",
       "<style scoped>\n",
       "    .dataframe tbody tr th:only-of-type {\n",
       "        vertical-align: middle;\n",
       "    }\n",
       "\n",
       "    .dataframe tbody tr th {\n",
       "        vertical-align: top;\n",
       "    }\n",
       "\n",
       "    .dataframe thead th {\n",
       "        text-align: right;\n",
       "    }\n",
       "</style>\n",
       "<table border=\"1\" class=\"dataframe\">\n",
       "  <thead>\n",
       "    <tr style=\"text-align: right;\">\n",
       "      <th></th>\n",
       "      <th>Ib</th>\n",
       "      <th>Ig</th>\n",
       "      <th>To</th>\n",
       "      <th>RH</th>\n",
       "      <th>WS</th>\n",
       "      <th>WD</th>\n",
       "      <th>P</th>\n",
       "    </tr>\n",
       "    <tr>\n",
       "      <th>time</th>\n",
       "      <th></th>\n",
       "      <th></th>\n",
       "      <th></th>\n",
       "      <th></th>\n",
       "      <th></th>\n",
       "      <th></th>\n",
       "      <th></th>\n",
       "    </tr>\n",
       "  </thead>\n",
       "  <tbody>\n",
       "    <tr>\n",
       "      <th>2018-01-01 00:00:00</th>\n",
       "      <td></td>\n",
       "      <td></td>\n",
       "      <td>18.7</td>\n",
       "      <td>36.34</td>\n",
       "      <td>1.422</td>\n",
       "      <td>316.0</td>\n",
       "      <td>87864.11</td>\n",
       "    </tr>\n",
       "    <tr>\n",
       "      <th>2018-01-01 00:10:00</th>\n",
       "      <td>0.002</td>\n",
       "      <td>0.0</td>\n",
       "      <td>18.95</td>\n",
       "      <td>35.29</td>\n",
       "      <td>1.008</td>\n",
       "      <td>283.7</td>\n",
       "      <td>87876.37</td>\n",
       "    </tr>\n",
       "    <tr>\n",
       "      <th>2018-01-01 00:20:00</th>\n",
       "      <td>0.17</td>\n",
       "      <td>0.0</td>\n",
       "      <td>18.94</td>\n",
       "      <td>35.43</td>\n",
       "      <td>1.565</td>\n",
       "      <td>326.0</td>\n",
       "      <td>87888.64</td>\n",
       "    </tr>\n",
       "    <tr>\n",
       "      <th>2018-01-01 00:30:00</th>\n",
       "      <td>0.371</td>\n",
       "      <td>0.0</td>\n",
       "      <td>18.77</td>\n",
       "      <td>35.89</td>\n",
       "      <td>2.175</td>\n",
       "      <td>354.5</td>\n",
       "      <td>87887.21</td>\n",
       "    </tr>\n",
       "    <tr>\n",
       "      <th>2018-01-01 00:40:00</th>\n",
       "      <td>0.305</td>\n",
       "      <td>0.0</td>\n",
       "      <td>18.81</td>\n",
       "      <td>36.34</td>\n",
       "      <td>1.902</td>\n",
       "      <td>348.0</td>\n",
       "      <td>87886.90999999999</td>\n",
       "    </tr>\n",
       "  </tbody>\n",
       "</table>\n",
       "</div>"
      ],
      "text/plain": [
       "                        Ib   Ig     To     RH     WS     WD                  P\n",
       "time                                                                          \n",
       "2018-01-01 00:00:00               18.7  36.34  1.422  316.0           87864.11\n",
       "2018-01-01 00:10:00  0.002  0.0  18.95  35.29  1.008  283.7           87876.37\n",
       "2018-01-01 00:20:00   0.17  0.0  18.94  35.43  1.565  326.0           87888.64\n",
       "2018-01-01 00:30:00  0.371  0.0  18.77  35.89  2.175  354.5           87887.21\n",
       "2018-01-01 00:40:00  0.305  0.0  18.81  36.34  1.902  348.0  87886.90999999999"
      ]
     },
     "execution_count": 11,
     "metadata": {},
     "output_type": "execute_result"
    }
   ],
   "source": [
    "dfDatosTemixco.head()"
   ]
  },
  {
   "cell_type": "code",
   "execution_count": 12,
   "id": "94c154fe",
   "metadata": {},
   "outputs": [
    {
     "data": {
      "text/plain": [
       "Index(['Ib', 'Ig', 'To', 'RH', 'WS', 'WD', 'P'], dtype='object')"
      ]
     },
     "execution_count": 12,
     "metadata": {},
     "output_type": "execute_result"
    }
   ],
   "source": [
    "dfDatosTemixco.columns"
   ]
  },
  {
   "cell_type": "code",
   "execution_count": 13,
   "id": "6ea234e7",
   "metadata": {},
   "outputs": [
    {
     "name": "stdout",
     "output_type": "stream",
     "text": [
      "                        Ib   Ig     To     RH     WS     WD                  P\n",
      "time                                                                          \n",
      "2018-01-01 00:00:00    NaN  NaN   18.7  36.34  1.422  316.0           87864.11\n",
      "2018-01-01 00:10:00  0.002  0.0  18.95  35.29  1.008  283.7           87876.37\n",
      "2018-01-01 00:20:00   0.17  0.0  18.94  35.43  1.565  326.0           87888.64\n",
      "2018-01-01 00:30:00  0.371  0.0  18.77  35.89  2.175  354.5           87887.21\n",
      "2018-01-01 00:40:00  0.305  0.0  18.81  36.34  1.902  348.0  87886.90999999999\n",
      "...                    ...  ...    ...    ...    ...    ...                ...\n",
      "2018-12-31 23:10:00  0.125  0.0  18.51  47.29  1.715  332.2           87484.32\n",
      "2018-12-31 23:20:00    0.0  0.0  18.26  48.02  1.703  320.5            87470.7\n",
      "2018-12-31 23:30:00  0.044  0.0  18.39  46.84  2.887  335.7           87455.03\n",
      "2018-12-31 23:40:00   0.17  0.0  17.99  47.85  1.528  358.8           87470.02\n",
      "2018-12-31 23:50:00  0.003  0.0  17.75  49.65  0.598  322.3           87467.29\n",
      "\n",
      "[52560 rows x 7 columns]\n"
     ]
    }
   ],
   "source": [
    "print(dfDatosTemixco.replace(r'^\\s*$', np.nan, regex=True))"
   ]
  },
  {
   "cell_type": "code",
   "execution_count": 14,
   "id": "2641bf82",
   "metadata": {},
   "outputs": [],
   "source": [
    "#Reemplazado vacíos por NAN\n",
    "dfDatosTemixco=dfDatosTemixco.replace(r'^\\s*$', np.nan, regex=True)"
   ]
  },
  {
   "cell_type": "code",
   "execution_count": 15,
   "id": "e21b05b5",
   "metadata": {},
   "outputs": [],
   "source": [
    "#Asignando tipo de dato numérico a las columnas\n",
    "dfDatosTemixco['Ib']=dfDatosTemixco['Ib'].astype(float)\n",
    "dfDatosTemixco['Ig']=dfDatosTemixco['Ig'].astype(float)\n",
    "dfDatosTemixco['To']=dfDatosTemixco['To'].astype(float)\n",
    "dfDatosTemixco['RH']=dfDatosTemixco['RH'].astype(float)\n",
    "dfDatosTemixco['WS']=dfDatosTemixco['WS'].astype(float)\n",
    "dfDatosTemixco['WD']=dfDatosTemixco['WD'].astype(float)\n",
    "dfDatosTemixco['P']=dfDatosTemixco['P'].astype(float)"
   ]
  },
  {
   "cell_type": "code",
   "execution_count": 16,
   "id": "84f056f4",
   "metadata": {},
   "outputs": [
    {
     "data": {
      "text/plain": [
       "Ib    float64\n",
       "Ig    float64\n",
       "To    float64\n",
       "RH    float64\n",
       "WS    float64\n",
       "WD    float64\n",
       "P     float64\n",
       "dtype: object"
      ]
     },
     "execution_count": 16,
     "metadata": {},
     "output_type": "execute_result"
    }
   ],
   "source": [
    "dfDatosTemixco.dtypes"
   ]
  },
  {
   "cell_type": "code",
   "execution_count": 17,
   "id": "f516627d",
   "metadata": {},
   "outputs": [
    {
     "data": {
      "text/plain": [
       "<AxesSubplot:xlabel='time'>"
      ]
     },
     "execution_count": 17,
     "metadata": {},
     "output_type": "execute_result"
    },
    {
     "data": {
      "image/png": "[encoded data removed]",
      "text/plain": [
       "<Figure size 432x288 with 1 Axes>"
      ]
     },
     "metadata": {
      "needs_background": "light"
     },
     "output_type": "display_data"
    }
   ],
   "source": [
    "dfDatosTemixco[\"Ib\"].plot()"
   ]
  },
  {
   "cell_type": "code",
   "execution_count": 18,
   "id": "15f4fa71",
   "metadata": {},
   "outputs": [
    {
     "data": {
      "text/plain": [
       "array([<AxesSubplot:xlabel='time'>, <AxesSubplot:xlabel='time'>,\n",
       "       <AxesSubplot:xlabel='time'>, <AxesSubplot:xlabel='time'>,\n",
       "       <AxesSubplot:xlabel='time'>, <AxesSubplot:xlabel='time'>,\n",
       "       <AxesSubplot:xlabel='time'>], dtype=object)"
      ]
     },
     "execution_count": 18,
     "metadata": {},
     "output_type": "execute_result"
    },
    {
     "data": {
      "image/png": "[encoded data removed]",
      "text/plain": [
       "<Figure size 720x720 with 7 Axes>"
      ]
     },
     "metadata": {
      "needs_background": "light"
     },
     "output_type": "display_data"
    }
   ],
   "source": [
    "dfDatosTemixco.plot(subplots=True,figsize=(10,10))"
   ]
  },
  {
   "cell_type": "code",
   "execution_count": null,
   "id": "0fb58cd5",
   "metadata": {},
   "outputs": [],
   "source": []
  }
 ],
 "metadata": {
  "kernelspec": {
   "display_name": "Python 3 (ipykernel)",
   "language": "python",
   "name": "python3"
  },
  "language_info": {
   "codemirror_mode": {
    "name": "ipython",
    "version": 3
   },
   "file_extension": ".py",
   "mimetype": "text/x-python",
   "name": "python",
   "nbconvert_exporter": "python",
   "pygments_lexer": "ipython3",
   "version": "3.9.7"
  }
 },
 "nbformat": 4,
 "nbformat_minor": 5
}
