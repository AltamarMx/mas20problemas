{
 "cells": [
  {
   "cell_type": "markdown",
   "id": "complimentary-level",
   "metadata": {},
   "source": [
    "# Estructura de trabajo con Github integrado\n",
    "\n",
    "1. Estructura de directorios, adaptado de [aqui](https://drivendata.github.io/cookiecutter-data-science/)\n",
    "\n",
    "```\n",
    "├── LICENSE\n",
    "├── Makefile           <- Makefile with commands like `make data` or `make train`\n",
    "├── README.md          <- The top-level README for developers using this project.\n",
    "├── data\n",
    "│   ├── processed      <- The final, canonical data sets for modeling.\n",
    "│   └── raw            <- The original, immutable data dump.\n",
    "│\n",
    "├── notebooks          <- Jupyter notebooks. Naming convention is a number (for ordering),\n",
    "│                         the creator's initials, and a short `-` delimited description, e.g.\n",
    "│                         `1.0-jqp-initial-data-exploration`.\n",
    "│\n",
    "├── reports            <- Generated analysis as HTML, PDF, LaTeX, etc.\n",
    "│   └── figures        <- Generated graphics and figures to be used in reporting\n",
    "│\n",
    "├── requirements.txt   <- The requirements file for reproducing the analysis environment, e.g.\n",
    "                         generated with `pip freeze > requirements.txt`\n",
    "\n",
    "```\n",
    "1. GitHub\n",
    "    1. Git y GitHub ? \n",
    "    1. Instalar git\n",
    "    1. Abrir cuenta en github\n",
    "    1. Clonar un repo"
   ]
  },
  {
   "cell_type": "code",
   "execution_count": null,
   "id": "federal-advocacy",
   "metadata": {},
   "outputs": [],
   "source": []
  }
 ],
 "metadata": {
  "kernelspec": {
   "display_name": "Python 3",
   "language": "python",
   "name": "python3"
  },
  "language_info": {
   "codemirror_mode": {
    "name": "ipython",
    "version": 3
   },
   "file_extension": ".py",
   "mimetype": "text/x-python",
   "name": "python",
   "nbconvert_exporter": "python",
   "pygments_lexer": "ipython3",
   "version": "3.9.7"
  }
 },
 "nbformat": 4,
 "nbformat_minor": 5
}
