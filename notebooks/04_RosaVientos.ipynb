{
 "cells": [
  {
   "cell_type": "markdown",
   "id": "hazardous-glass",
   "metadata": {},
   "source": [
    "# Crea una rosa de viento\n",
    "* Para todo el año\n",
    "* Para el día y la noche de todo el año\n",
    "* [WindRose](https://github.com/python-windrose/windrose)\n"
   ]
  },
  {
   "cell_type": "code",
   "execution_count": 15,
   "id": "excessive-russian",
   "metadata": {},
   "outputs": [],
   "source": [
    "# # revisar requirements de la p'agina de github\n",
    "# pip  install pandas\n",
    "# pip install numpy\n",
    "# pip install matplotlib\n",
    "# pip install numpy\n",
    "# %pip install windrose"
   ]
  },
  {
   "cell_type": "code",
   "execution_count": 16,
   "id": "dried-ocean",
   "metadata": {},
   "outputs": [],
   "source": [
    "import pandas as pd\n",
    "from windrose import WindroseAxes"
   ]
  },
  {
   "cell_type": "code",
   "execution_count": 21,
   "id": "collect-north",
   "metadata": {},
   "outputs": [],
   "source": [
    "file = '../data/001_raw/temixco.csv'\n",
    "tmx  = pd.read_csv(file,index_col=0,parse_dates=True,usecols=[0,5,6])\n"
   ]
  },
  {
   "cell_type": "code",
   "execution_count": 22,
   "id": "faced-mention",
   "metadata": {},
   "outputs": [
    {
     "name": "stdout",
     "output_type": "stream",
     "text": [
      "<class 'pandas.core.frame.DataFrame'>\n",
      "DatetimeIndex: 52560 entries, 2018-01-01 00:00:00 to 2018-12-31 23:50:00\n",
      "Data columns (total 2 columns):\n",
      " #   Column  Non-Null Count  Dtype  \n",
      "---  ------  --------------  -----  \n",
      " 0   WS      52560 non-null  float64\n",
      " 1   WD      52560 non-null  float64\n",
      "dtypes: float64(2)\n",
      "memory usage: 1.2 MB\n"
     ]
    }
   ],
   "source": [
    "tmx.info()"
   ]
  },
  {
   "cell_type": "code",
   "execution_count": 23,
   "id": "explicit-person",
   "metadata": {},
   "outputs": [
    {
     "data": {
      "text/plain": [
       "WS    float64\n",
       "WD    float64\n",
       "dtype: object"
      ]
     },
     "execution_count": 23,
     "metadata": {},
     "output_type": "execute_result"
    }
   ],
   "source": [
    "tmx.dtypes"
   ]
  },
  {
   "cell_type": "code",
   "execution_count": 24,
   "id": "painted-helping",
   "metadata": {},
   "outputs": [
    {
     "data": {
      "text/plain": [
       "DatetimeIndex(['2018-01-01 00:00:00', '2018-01-01 00:10:00',\n",
       "               '2018-01-01 00:20:00', '2018-01-01 00:30:00',\n",
       "               '2018-01-01 00:40:00', '2018-01-01 00:50:00',\n",
       "               '2018-01-01 01:00:00', '2018-01-01 01:10:00',\n",
       "               '2018-01-01 01:20:00', '2018-01-01 01:30:00',\n",
       "               ...\n",
       "               '2018-12-31 22:20:00', '2018-12-31 22:30:00',\n",
       "               '2018-12-31 22:40:00', '2018-12-31 22:50:00',\n",
       "               '2018-12-31 23:00:00', '2018-12-31 23:10:00',\n",
       "               '2018-12-31 23:20:00', '2018-12-31 23:30:00',\n",
       "               '2018-12-31 23:40:00', '2018-12-31 23:50:00'],\n",
       "              dtype='datetime64[ns]', name='time', length=52560, freq=None)"
      ]
     },
     "execution_count": 24,
     "metadata": {},
     "output_type": "execute_result"
    }
   ],
   "source": [
    "tmx.index"
   ]
  },
  {
   "cell_type": "code",
   "execution_count": null,
   "id": "accompanied-burning",
   "metadata": {},
   "outputs": [],
   "source": []
  }
 ],
 "metadata": {
  "kernelspec": {
   "display_name": "Python 3",
   "language": "python",
   "name": "python3"
  },
  "language_info": {
   "codemirror_mode": {
    "name": "ipython",
    "version": 3
   },
   "file_extension": ".py",
   "mimetype": "text/x-python",
   "name": "python",
   "nbconvert_exporter": "python",
   "pygments_lexer": "ipython3",
   "version": "3.9.7"
  }
 },
 "nbformat": 4,
 "nbformat_minor": 5
}
