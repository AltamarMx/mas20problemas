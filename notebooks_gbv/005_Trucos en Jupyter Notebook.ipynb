{
 "cells": [
  {
   "cell_type": "code",
   "execution_count": 1,
   "id": "bdace815",
   "metadata": {
    "slideshow": {
     "slide_type": "-"
    },
    "tags": [
     "diego"
    ]
   },
   "outputs": [],
   "source": [
    "mensaje = 'hola munde'"
   ]
  },
  {
   "cell_type": "code",
   "execution_count": 4,
   "id": "5dca1ef9",
   "metadata": {
    "slideshow": {
     "slide_type": "subslide"
    },
    "tags": [
     "kevin"
    ]
   },
   "outputs": [
    {
     "name": "stdout",
     "output_type": "stream",
     "text": [
      "hola munde\n"
     ]
    }
   ],
   "source": [
    "print(mensaje)"
   ]
  },
  {
   "cell_type": "code",
   "execution_count": 3,
   "id": "b1b89ef9",
   "metadata": {
    "slideshow": {
     "slide_type": "fragment"
    },
    "tags": [
     "revisar"
    ]
   },
   "outputs": [
    {
     "name": "stdout",
     "output_type": "stream",
     "text": [
      "este es un fragmento\n"
     ]
    }
   ],
   "source": [
    "print('este es un fragmento')"
   ]
  },
  {
   "cell_type": "markdown",
   "id": "1273abf3",
   "metadata": {
    "scrolled": false,
    "slideshow": {
     "slide_type": "slide"
    }
   },
   "source": [
    "$$ E = mc^2 $$"
   ]
  },
  {
   "cell_type": "code",
   "execution_count": 5,
   "id": "51af2265",
   "metadata": {
    "slideshow": {
     "slide_type": "skip"
    }
   },
   "outputs": [
    {
     "name": "stdout",
     "output_type": "stream",
     "text": [
      "Requirement already satisfied: rise in c:\\wpy64-3980\\python-3.9.8.amd64\\lib\\site-packages (5.7.1)\n",
      "Requirement already satisfied: notebook>=6.0 in c:\\wpy64-3980\\python-3.9.8.amd64\\lib\\site-packages (from rise) (6.4.5)\n",
      "Requirement already satisfied: jupyter-client>=5.3.4 in c:\\wpy64-3980\\python-3.9.8.amd64\\lib\\site-packages (from notebook>=6.0->rise) (6.2.0)\n",
      "Requirement already satisfied: nbformat in c:\\wpy64-3980\\python-3.9.8.amd64\\lib\\site-packages (from notebook>=6.0->rise) (5.1.3)\n",
      "Note: you may need to restart the kernel to use updated packages.Requirement already satisfied: prometheus-client in c:\\wpy64-3980\\python-3.9.8.amd64\\lib\\site-packages (from notebook>=6.0->rise) (0.12.0)\n",
      "\n",
      "Requirement already satisfied: ipython-genutils in c:\\wpy64-3980\\python-3.9.8.amd64\\lib\\site-packages (from notebook>=6.0->rise) (0.2.0)\n",
      "Requirement already satisfied: argon2-cffi in c:\\wpy64-3980\\python-3.9.8.amd64\\lib\\site-packages (from notebook>=6.0->rise) (21.1.0)\n",
      "Requirement already satisfied: nbconvert in c:\\wpy64-3980\\python-3.9.8.amd64\\lib\\site-packages (from notebook>=6.0->rise) (6.2.0)\n",
      "Requirement already satisfied: tornado>=6.1 in c:\\wpy64-3980\\python-3.9.8.amd64\\lib\\site-packages (from notebook>=6.0->rise) (6.1)\n",
      "Requirement already satisfied: ipykernel in c:\\wpy64-3980\\python-3.9.8.amd64\\lib\\site-packages (from notebook>=6.0->rise) (6.5.0)\n",
      "Requirement already satisfied: pyzmq>=17 in c:\\wpy64-3980\\python-3.9.8.amd64\\lib\\site-packages (from notebook>=6.0->rise) (22.3.0)\n",
      "Requirement already satisfied: terminado>=0.8.3 in c:\\wpy64-3980\\python-3.9.8.amd64\\lib\\site-packages (from notebook>=6.0->rise) (0.12.1)\n",
      "Requirement already satisfied: Send2Trash>=1.5.0 in c:\\wpy64-3980\\python-3.9.8.amd64\\lib\\site-packages (from notebook>=6.0->rise) (1.8.0)\n",
      "Requirement already satisfied: jinja2 in c:\\wpy64-3980\\python-3.9.8.amd64\\lib\\site-packages (from notebook>=6.0->rise) (3.0.2)\n",
      "Requirement already satisfied: traitlets>=4.2.1 in c:\\wpy64-3980\\python-3.9.8.amd64\\lib\\site-packages (from notebook>=6.0->rise) (5.1.1)\n",
      "Requirement already satisfied: jupyter-core>=4.6.1 in c:\\wpy64-3980\\python-3.9.8.amd64\\lib\\site-packages (from notebook>=6.0->rise) (4.9.1)\n",
      "Requirement already satisfied: python-dateutil>=2.1 in c:\\wpy64-3980\\python-3.9.8.amd64\\lib\\site-packages (from jupyter-client>=5.3.4->notebook>=6.0->rise) (2.8.2)\n",
      "Requirement already satisfied: nest-asyncio>=1.5 in c:\\wpy64-3980\\python-3.9.8.amd64\\lib\\site-packages (from jupyter-client>=5.3.4->notebook>=6.0->rise) (1.5.1)\n",
      "Requirement already satisfied: pywin32>=1.0 in c:\\wpy64-3980\\python-3.9.8.amd64\\lib\\site-packages (from jupyter-core>=4.6.1->notebook>=6.0->rise) (302)\n",
      "Requirement already satisfied: pywinpty>=1.1.0 in c:\\wpy64-3980\\python-3.9.8.amd64\\lib\\site-packages (from terminado>=0.8.3->notebook>=6.0->rise) (1.1.5)\n",
      "Requirement already satisfied: cffi>=1.0.0 in c:\\wpy64-3980\\python-3.9.8.amd64\\lib\\site-packages (from argon2-cffi->notebook>=6.0->rise) (1.15.0)\n",
      "Requirement already satisfied: ipython<8.0,>=7.23.1 in c:\\wpy64-3980\\python-3.9.8.amd64\\lib\\site-packages (from ipykernel->notebook>=6.0->rise) (7.29.0)\n",
      "Requirement already satisfied: matplotlib-inline<0.2.0,>=0.1.0 in c:\\wpy64-3980\\python-3.9.8.amd64\\lib\\site-packages (from ipykernel->notebook>=6.0->rise) (0.1.3)\n",
      "Requirement already satisfied: debugpy<2.0,>=1.0.0 in c:\\wpy64-3980\\python-3.9.8.amd64\\lib\\site-packages (from ipykernel->notebook>=6.0->rise) (1.5.1)\n",
      "Requirement already satisfied: MarkupSafe>=2.0 in c:\\wpy64-3980\\python-3.9.8.amd64\\lib\\site-packages (from jinja2->notebook>=6.0->rise) (2.0.1)\n",
      "Requirement already satisfied: testpath in c:\\wpy64-3980\\python-3.9.8.amd64\\lib\\site-packages (from nbconvert->notebook>=6.0->rise) (0.5.0)\n",
      "Requirement already satisfied: entrypoints>=0.2.2 in c:\\wpy64-3980\\python-3.9.8.amd64\\lib\\site-packages (from nbconvert->notebook>=6.0->rise) (0.3)\n",
      "Requirement already satisfied: nbclient<0.6.0,>=0.5.0 in c:\\wpy64-3980\\python-3.9.8.amd64\\lib\\site-packages (from nbconvert->notebook>=6.0->rise) (0.5.4)\n",
      "Requirement already satisfied: jupyterlab-pygments in c:\\wpy64-3980\\python-3.9.8.amd64\\lib\\site-packages (from nbconvert->notebook>=6.0->rise) (0.1.2)\n",
      "Requirement already satisfied: pygments>=2.4.1 in c:\\wpy64-3980\\python-3.9.8.amd64\\lib\\site-packages (from nbconvert->notebook>=6.0->rise) (2.10.0)\n",
      "Requirement already satisfied: defusedxml in c:\\wpy64-3980\\python-3.9.8.amd64\\lib\\site-packages (from nbconvert->notebook>=6.0->rise) (0.7.1)\n",
      "Requirement already satisfied: bleach in c:\\wpy64-3980\\python-3.9.8.amd64\\lib\\site-packages (from nbconvert->notebook>=6.0->rise) (4.1.0)\n",
      "Requirement already satisfied: mistune<2,>=0.8.1 in c:\\wpy64-3980\\python-3.9.8.amd64\\lib\\site-packages (from nbconvert->notebook>=6.0->rise) (0.8.4)\n",
      "Requirement already satisfied: pandocfilters>=1.4.1 in c:\\wpy64-3980\\python-3.9.8.amd64\\lib\\site-packages (from nbconvert->notebook>=6.0->rise) (1.5.0)\n",
      "Requirement already satisfied: jsonschema!=2.5.0,>=2.4 in c:\\wpy64-3980\\python-3.9.8.amd64\\lib\\site-packages (from nbformat->notebook>=6.0->rise) (4.2.1)\n",
      "Requirement already satisfied: pycparser in c:\\wpy64-3980\\python-3.9.8.amd64\\lib\\site-packages (from cffi>=1.0.0->argon2-cffi->notebook>=6.0->rise) (2.20)\n",
      "Requirement already satisfied: setuptools>=18.5 in c:\\wpy64-3980\\python-3.9.8.amd64\\lib\\site-packages (from ipython<8.0,>=7.23.1->ipykernel->notebook>=6.0->rise) (58.5.3)\n",
      "Requirement already satisfied: backcall in c:\\wpy64-3980\\python-3.9.8.amd64\\lib\\site-packages (from ipython<8.0,>=7.23.1->ipykernel->notebook>=6.0->rise) (0.2.0)\n",
      "Requirement already satisfied: prompt-toolkit!=3.0.0,!=3.0.1,<3.1.0,>=2.0.0 in c:\\wpy64-3980\\python-3.9.8.amd64\\lib\\site-packages (from ipython<8.0,>=7.23.1->ipykernel->notebook>=6.0->rise) (3.0.22)\n",
      "Requirement already satisfied: decorator in c:\\wpy64-3980\\python-3.9.8.amd64\\lib\\site-packages (from ipython<8.0,>=7.23.1->ipykernel->notebook>=6.0->rise) (4.4.2)\n",
      "Requirement already satisfied: colorama in c:\\wpy64-3980\\python-3.9.8.amd64\\lib\\site-packages (from ipython<8.0,>=7.23.1->ipykernel->notebook>=6.0->rise) (0.4.4)\n",
      "Requirement already satisfied: jedi>=0.16 in c:\\wpy64-3980\\python-3.9.8.amd64\\lib\\site-packages (from ipython<8.0,>=7.23.1->ipykernel->notebook>=6.0->rise) (0.18.0)\n",
      "Requirement already satisfied: pickleshare in c:\\wpy64-3980\\python-3.9.8.amd64\\lib\\site-packages (from ipython<8.0,>=7.23.1->ipykernel->notebook>=6.0->rise) (0.7.5)\n",
      "Requirement already satisfied: pyrsistent!=0.17.0,!=0.17.1,!=0.17.2,>=0.14.0 in c:\\wpy64-3980\\python-3.9.8.amd64\\lib\\site-packages (from jsonschema!=2.5.0,>=2.4->nbformat->notebook>=6.0->rise) (0.18.0)\n",
      "Requirement already satisfied: attrs>=17.4.0 in c:\\wpy64-3980\\python-3.9.8.amd64\\lib\\site-packages (from jsonschema!=2.5.0,>=2.4->nbformat->notebook>=6.0->rise) (21.2.0)\n",
      "Requirement already satisfied: six>=1.5 in c:\\wpy64-3980\\python-3.9.8.amd64\\lib\\site-packages (from python-dateutil>=2.1->jupyter-client>=5.3.4->notebook>=6.0->rise) (1.16.0)\n",
      "Requirement already satisfied: packaging in c:\\wpy64-3980\\python-3.9.8.amd64\\lib\\site-packages (from bleach->nbconvert->notebook>=6.0->rise) (21.2)\n",
      "Requirement already satisfied: webencodings in c:\\wpy64-3980\\python-3.9.8.amd64\\lib\\site-packages (from bleach->nbconvert->notebook>=6.0->rise) (0.5.1)\n",
      "Requirement already satisfied: parso<0.9.0,>=0.8.0 in c:\\wpy64-3980\\python-3.9.8.amd64\\lib\\site-packages (from jedi>=0.16->ipython<8.0,>=7.23.1->ipykernel->notebook>=6.0->rise) (0.8.2)\n",
      "Requirement already satisfied: wcwidth in c:\\wpy64-3980\\python-3.9.8.amd64\\lib\\site-packages (from prompt-toolkit!=3.0.0,!=3.0.1,<3.1.0,>=2.0.0->ipython<8.0,>=7.23.1->ipykernel->notebook>=6.0->rise) (0.2.5)\n",
      "Requirement already satisfied: pyparsing<3,>=2.0.2 in c:\\wpy64-3980\\python-3.9.8.amd64\\lib\\site-packages (from packaging->bleach->nbconvert->notebook>=6.0->rise) (2.4.7)\n"
     ]
    }
   ],
   "source": [
    "pip install rise"
   ]
  }
 ],
 "metadata": {
  "kernelspec": {
   "display_name": "Python 3 (ipykernel)",
   "language": "python",
   "name": "python3"
  },
  "language_info": {
   "codemirror_mode": {
    "name": "ipython",
    "version": 3
   },
   "file_extension": ".py",
   "mimetype": "text/x-python",
   "name": "python",
   "nbconvert_exporter": "python",
   "pygments_lexer": "ipython3",
   "version": "3.9.8"
  }
 },
 "nbformat": 4,
 "nbformat_minor": 5
}
