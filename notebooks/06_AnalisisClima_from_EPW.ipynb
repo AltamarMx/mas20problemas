{
 "cells": [
  {
   "cell_type": "code",
   "execution_count": 70,
   "metadata": {},
   "outputs": [],
   "source": [
    "import pandas as pd\n",
    "import numpy as np\n",
    "import matplotlib.pyplot as plt\n",
    "import calendar\n",
    "from windrose import WindroseAxes\n",
    "from dateutil.parser import parse\n"
   ]
  },
  {
   "cell_type": "markdown",
   "metadata": {},
   "source": [
    "### EPW y Documentacion\n",
    "1. [OneBuilding.org](https://climate.onebuilding.org/)\n",
    "1. [EPW Documentation](https://energyplus.net/assets/nrel_custom/pdfs/pdfs_v9.6.0/AuxiliaryPrograms.pdf)"
   ]
  },
  {
   "cell_type": "code",
   "execution_count": 53,
   "metadata": {},
   "outputs": [],
   "source": [
    "texto = \"\"\"\n",
    "2.9.1.1 Field: Year\n",
    "2.9.1.2 Field: Month\n",
    "2.9.1.3 Field: Day\n",
    "2.9.1.4 Field: Hour\n",
    "2.9.1.5 Field: Minute\n",
    "2.9.1.6 Field: Data Source and Uncertainty Flags\n",
    "2.9.1.7 Field: Dry Bulb Temperature\n",
    "2.9.1.8 Field: Dew Point Temperature\n",
    "2.9.1.9 Field: Relative Humidity\n",
    "2.9.1.10 Field: Atmospheric Station Pressure\n",
    "2.9.1.11 Field: Extraterrestrial Horizontal Radiation\n",
    "2.9.1.12 Field: Extraterrestrial Direct Normal Radiation\n",
    "2.9.1.13 Field: Horizontal Infrared Radiation Intensity\n",
    "2.9.1.14 Field: Global Horizontal Radiation\n",
    "2.9.1.15 Field: Direct Normal Radiation\n",
    "2.9.1.16 Field: Diffuse Horizontal Radiation\n",
    "2.9.1.17 Field: Global Horizontal Illuminance\n",
    "2.9.1.18 Field: Direct Normal Illuminance\n",
    "2.9.1.19 Field: Diffuse Horizontal Illuminance\n",
    "2.9.1.20 Field: Zenith Luminance\n",
    "2.9.1.21 Field: Wind Direction\n",
    "2.9.1.22 Field: Wind Speed\n",
    "2.9.1.23 Field: Total Sky Cover\n",
    "2.9.1.24 Field: Opaque Sky Cover\n",
    "2.9.1.25 Field: Visibility\n",
    "2.9.1.26 Field: Ceiling Height\n",
    "2.9.1.27 Field: Present Weather Observation\n",
    "\"\"\""
   ]
  },
  {
   "cell_type": "code",
   "execution_count": 67,
   "metadata": {},
   "outputs": [
    {
     "data": {
      "text/plain": [
       "['Year',\n",
       " 'Month',\n",
       " 'Day',\n",
       " 'Hour',\n",
       " 'Minute',\n",
       " 'Data Source and Uncertainty Flags',\n",
       " 'Dry Bulb Temperature',\n",
       " 'Dew Point Temperature',\n",
       " 'Relative Humidity',\n",
       " 'Atmospheric Station Pressure',\n",
       " 'Extraterrestrial Horizontal Radiation',\n",
       " 'Extraterrestrial Direct Normal Radiation',\n",
       " 'Horizontal Infrared Radiation Intensity',\n",
       " 'Global Horizontal Radiation',\n",
       " 'Direct Normal Radiation',\n",
       " 'Diffuse Horizontal Radiation',\n",
       " 'Global Horizontal Illuminance',\n",
       " 'Direct Normal Illuminance',\n",
       " 'Diffuse Horizontal Illuminance',\n",
       " 'Zenith Luminance',\n",
       " 'Wind Direction',\n",
       " 'Wind Speed',\n",
       " 'Total Sky Cover',\n",
       " 'Opaque Sky Cover',\n",
       " 'Visibility',\n",
       " 'Ceiling Height',\n",
       " 'Present Weather Observation']"
      ]
     },
     "execution_count": 67,
     "metadata": {},
     "output_type": "execute_result"
    }
   ],
   "source": [
    "nombres = []\n",
    "titulos = texto.split(\"\\n\")[1:-1]\n",
    "for titulo in titulos:\n",
    "#     print(titulo.split(\":\")[1].lstrip().rstrip())\n",
    "    nombres.append(titulo.split(\":\")[1].lstrip().rstrip())\n",
    "nombres"
   ]
  },
  {
   "cell_type": "code",
   "execution_count": 68,
   "metadata": {},
   "outputs": [
    {
     "data": {
      "text/plain": [
       "27"
      ]
     },
     "execution_count": 68,
     "metadata": {},
     "output_type": "execute_result"
    }
   ],
   "source": [
    "len(nombres)"
   ]
  },
  {
   "cell_type": "code",
   "execution_count": 73,
   "metadata": {},
   "outputs": [
    {
     "name": "stdout",
     "output_type": "stream",
     "text": [
      "0 Year\n",
      "1 Month\n",
      "2 Day\n",
      "3 Hour\n",
      "4 Minute\n",
      "5 Data Source and Uncertainty Flags\n",
      "6 Dry Bulb Temperature\n",
      "7 Dew Point Temperature\n",
      "8 Relative Humidity\n",
      "9 Atmospheric Station Pressure\n",
      "10 Extraterrestrial Horizontal Radiation\n",
      "11 Extraterrestrial Direct Normal Radiation\n",
      "12 Horizontal Infrared Radiation Intensity\n",
      "13 Global Horizontal Radiation\n",
      "14 Direct Normal Radiation\n",
      "15 Diffuse Horizontal Radiation\n",
      "16 Global Horizontal Illuminance\n",
      "17 Direct Normal Illuminance\n",
      "18 Diffuse Horizontal Illuminance\n",
      "19 Zenith Luminance\n",
      "20 Wind Direction\n",
      "21 Wind Speed\n",
      "22 Total Sky Cover\n",
      "23 Opaque Sky Cover\n",
      "24 Visibility\n",
      "25 Ceiling Height\n",
      "26 Present Weather Observation\n"
     ]
    }
   ],
   "source": [
    "for i,nombre in enumerate(nombres):\n",
    "    print(i,nombre)"
   ]
  },
  {
   "cell_type": "code",
   "execution_count": 89,
   "metadata": {},
   "outputs": [
    {
     "ename": "UFuncTypeError",
     "evalue": "ufunc 'add' did not contain a loop with signature matching types (dtype('<U21'), dtype('<U21')) -> dtype('<U21')",
     "output_type": "error",
     "traceback": [
      "\u001b[0;31m---------------------------------------------------------------------------\u001b[0m",
      "\u001b[0;31mUFuncTypeError\u001b[0m                            Traceback (most recent call last)",
      "\u001b[0;32m<ipython-input-89-d0a7f171b8a9>\u001b[0m in \u001b[0;36m<module>\u001b[0;34m\u001b[0m\n\u001b[1;32m      1\u001b[0m \u001b[0mf\u001b[0m \u001b[0;34m=\u001b[0m \u001b[0;34m'../data/001_raw/Casablanca.epw'\u001b[0m\u001b[0;34m\u001b[0m\u001b[0;34m\u001b[0m\u001b[0m\n\u001b[1;32m      2\u001b[0m \u001b[0mclima\u001b[0m \u001b[0;34m=\u001b[0m \u001b[0mpd\u001b[0m\u001b[0;34m.\u001b[0m\u001b[0mread_csv\u001b[0m\u001b[0;34m(\u001b[0m\u001b[0mf\u001b[0m\u001b[0;34m,\u001b[0m\u001b[0mskiprows\u001b[0m\u001b[0;34m=\u001b[0m\u001b[0;36m8\u001b[0m\u001b[0;34m,\u001b[0m\u001b[0mheader\u001b[0m\u001b[0;34m=\u001b[0m\u001b[0;32mNone\u001b[0m\u001b[0;34m,\u001b[0m\u001b[0mnames\u001b[0m\u001b[0;34m=\u001b[0m\u001b[0mnombres\u001b[0m\u001b[0;34m,\u001b[0m\u001b[0musecols\u001b[0m\u001b[0;34m=\u001b[0m\u001b[0mrange\u001b[0m\u001b[0;34m(\u001b[0m\u001b[0;36m27\u001b[0m\u001b[0;34m)\u001b[0m\u001b[0;34m)\u001b[0m\u001b[0;34m\u001b[0m\u001b[0;34m\u001b[0m\u001b[0m\n\u001b[0;32m----> 3\u001b[0;31m \u001b[0mclima\u001b[0m\u001b[0;34m[\u001b[0m\u001b[0;34m'tiempo'\u001b[0m\u001b[0;34m]\u001b[0m \u001b[0;34m=\u001b[0m \u001b[0mclima\u001b[0m\u001b[0;34m.\u001b[0m\u001b[0mYear\u001b[0m \u001b[0;34m+\u001b[0m \u001b[0;34m'-'\u001b[0m \u001b[0;34m+\u001b[0m \u001b[0mclima\u001b[0m\u001b[0;34m.\u001b[0m\u001b[0mMonth\u001b[0m\u001b[0;34m\u001b[0m\u001b[0;34m\u001b[0m\u001b[0m\n\u001b[0m",
      "\u001b[0;32m/usr/local/lib/python3.9/site-packages/pandas/core/ops/common.py\u001b[0m in \u001b[0;36mnew_method\u001b[0;34m(self, other)\u001b[0m\n\u001b[1;32m     67\u001b[0m         \u001b[0mother\u001b[0m \u001b[0;34m=\u001b[0m \u001b[0mitem_from_zerodim\u001b[0m\u001b[0;34m(\u001b[0m\u001b[0mother\u001b[0m\u001b[0;34m)\u001b[0m\u001b[0;34m\u001b[0m\u001b[0;34m\u001b[0m\u001b[0m\n\u001b[1;32m     68\u001b[0m \u001b[0;34m\u001b[0m\u001b[0m\n\u001b[0;32m---> 69\u001b[0;31m         \u001b[0;32mreturn\u001b[0m \u001b[0mmethod\u001b[0m\u001b[0;34m(\u001b[0m\u001b[0mself\u001b[0m\u001b[0;34m,\u001b[0m \u001b[0mother\u001b[0m\u001b[0;34m)\u001b[0m\u001b[0;34m\u001b[0m\u001b[0;34m\u001b[0m\u001b[0m\n\u001b[0m\u001b[1;32m     70\u001b[0m \u001b[0;34m\u001b[0m\u001b[0m\n\u001b[1;32m     71\u001b[0m     \u001b[0;32mreturn\u001b[0m \u001b[0mnew_method\u001b[0m\u001b[0;34m\u001b[0m\u001b[0;34m\u001b[0m\u001b[0m\n",
      "\u001b[0;32m/usr/local/lib/python3.9/site-packages/pandas/core/arraylike.py\u001b[0m in \u001b[0;36m__add__\u001b[0;34m(self, other)\u001b[0m\n\u001b[1;32m     90\u001b[0m     \u001b[0;34m@\u001b[0m\u001b[0munpack_zerodim_and_defer\u001b[0m\u001b[0;34m(\u001b[0m\u001b[0;34m\"__add__\"\u001b[0m\u001b[0;34m)\u001b[0m\u001b[0;34m\u001b[0m\u001b[0;34m\u001b[0m\u001b[0m\n\u001b[1;32m     91\u001b[0m     \u001b[0;32mdef\u001b[0m \u001b[0m__add__\u001b[0m\u001b[0;34m(\u001b[0m\u001b[0mself\u001b[0m\u001b[0;34m,\u001b[0m \u001b[0mother\u001b[0m\u001b[0;34m)\u001b[0m\u001b[0;34m:\u001b[0m\u001b[0;34m\u001b[0m\u001b[0;34m\u001b[0m\u001b[0m\n\u001b[0;32m---> 92\u001b[0;31m         \u001b[0;32mreturn\u001b[0m \u001b[0mself\u001b[0m\u001b[0;34m.\u001b[0m\u001b[0m_arith_method\u001b[0m\u001b[0;34m(\u001b[0m\u001b[0mother\u001b[0m\u001b[0;34m,\u001b[0m \u001b[0moperator\u001b[0m\u001b[0;34m.\u001b[0m\u001b[0madd\u001b[0m\u001b[0;34m)\u001b[0m\u001b[0;34m\u001b[0m\u001b[0;34m\u001b[0m\u001b[0m\n\u001b[0m\u001b[1;32m     93\u001b[0m \u001b[0;34m\u001b[0m\u001b[0m\n\u001b[1;32m     94\u001b[0m     \u001b[0;34m@\u001b[0m\u001b[0munpack_zerodim_and_defer\u001b[0m\u001b[0;34m(\u001b[0m\u001b[0;34m\"__radd__\"\u001b[0m\u001b[0;34m)\u001b[0m\u001b[0;34m\u001b[0m\u001b[0;34m\u001b[0m\u001b[0m\n",
      "\u001b[0;32m/usr/local/lib/python3.9/site-packages/pandas/core/series.py\u001b[0m in \u001b[0;36m_arith_method\u001b[0;34m(self, other, op)\u001b[0m\n\u001b[1;32m   5524\u001b[0m \u001b[0;34m\u001b[0m\u001b[0m\n\u001b[1;32m   5525\u001b[0m         \u001b[0;32mwith\u001b[0m \u001b[0mnp\u001b[0m\u001b[0;34m.\u001b[0m\u001b[0merrstate\u001b[0m\u001b[0;34m(\u001b[0m\u001b[0mall\u001b[0m\u001b[0;34m=\u001b[0m\u001b[0;34m\"ignore\"\u001b[0m\u001b[0;34m)\u001b[0m\u001b[0;34m:\u001b[0m\u001b[0;34m\u001b[0m\u001b[0;34m\u001b[0m\u001b[0m\n\u001b[0;32m-> 5526\u001b[0;31m             \u001b[0mresult\u001b[0m \u001b[0;34m=\u001b[0m \u001b[0mops\u001b[0m\u001b[0;34m.\u001b[0m\u001b[0marithmetic_op\u001b[0m\u001b[0;34m(\u001b[0m\u001b[0mlvalues\u001b[0m\u001b[0;34m,\u001b[0m \u001b[0mrvalues\u001b[0m\u001b[0;34m,\u001b[0m \u001b[0mop\u001b[0m\u001b[0;34m)\u001b[0m\u001b[0;34m\u001b[0m\u001b[0;34m\u001b[0m\u001b[0m\n\u001b[0m\u001b[1;32m   5527\u001b[0m \u001b[0;34m\u001b[0m\u001b[0m\n\u001b[1;32m   5528\u001b[0m         \u001b[0;32mreturn\u001b[0m \u001b[0mself\u001b[0m\u001b[0;34m.\u001b[0m\u001b[0m_construct_result\u001b[0m\u001b[0;34m(\u001b[0m\u001b[0mresult\u001b[0m\u001b[0;34m,\u001b[0m \u001b[0mname\u001b[0m\u001b[0;34m=\u001b[0m\u001b[0mres_name\u001b[0m\u001b[0;34m)\u001b[0m\u001b[0;34m\u001b[0m\u001b[0;34m\u001b[0m\u001b[0m\n",
      "\u001b[0;32m/usr/local/lib/python3.9/site-packages/pandas/core/ops/array_ops.py\u001b[0m in \u001b[0;36marithmetic_op\u001b[0;34m(left, right, op)\u001b[0m\n\u001b[1;32m    222\u001b[0m         \u001b[0m_bool_arith_check\u001b[0m\u001b[0;34m(\u001b[0m\u001b[0mop\u001b[0m\u001b[0;34m,\u001b[0m \u001b[0mleft\u001b[0m\u001b[0;34m,\u001b[0m \u001b[0mright\u001b[0m\u001b[0;34m)\u001b[0m\u001b[0;34m\u001b[0m\u001b[0;34m\u001b[0m\u001b[0m\n\u001b[1;32m    223\u001b[0m \u001b[0;34m\u001b[0m\u001b[0m\n\u001b[0;32m--> 224\u001b[0;31m         \u001b[0mres_values\u001b[0m \u001b[0;34m=\u001b[0m \u001b[0m_na_arithmetic_op\u001b[0m\u001b[0;34m(\u001b[0m\u001b[0mleft\u001b[0m\u001b[0;34m,\u001b[0m \u001b[0mright\u001b[0m\u001b[0;34m,\u001b[0m \u001b[0mop\u001b[0m\u001b[0;34m)\u001b[0m\u001b[0;34m\u001b[0m\u001b[0;34m\u001b[0m\u001b[0m\n\u001b[0m\u001b[1;32m    225\u001b[0m \u001b[0;34m\u001b[0m\u001b[0m\n\u001b[1;32m    226\u001b[0m     \u001b[0;32mreturn\u001b[0m \u001b[0mres_values\u001b[0m\u001b[0;34m\u001b[0m\u001b[0;34m\u001b[0m\u001b[0m\n",
      "\u001b[0;32m/usr/local/lib/python3.9/site-packages/pandas/core/ops/array_ops.py\u001b[0m in \u001b[0;36m_na_arithmetic_op\u001b[0;34m(left, right, op, is_cmp)\u001b[0m\n\u001b[1;32m    164\u001b[0m \u001b[0;34m\u001b[0m\u001b[0m\n\u001b[1;32m    165\u001b[0m     \u001b[0;32mtry\u001b[0m\u001b[0;34m:\u001b[0m\u001b[0;34m\u001b[0m\u001b[0;34m\u001b[0m\u001b[0m\n\u001b[0;32m--> 166\u001b[0;31m         \u001b[0mresult\u001b[0m \u001b[0;34m=\u001b[0m \u001b[0mfunc\u001b[0m\u001b[0;34m(\u001b[0m\u001b[0mleft\u001b[0m\u001b[0;34m,\u001b[0m \u001b[0mright\u001b[0m\u001b[0;34m)\u001b[0m\u001b[0;34m\u001b[0m\u001b[0;34m\u001b[0m\u001b[0m\n\u001b[0m\u001b[1;32m    167\u001b[0m     \u001b[0;32mexcept\u001b[0m \u001b[0mTypeError\u001b[0m\u001b[0;34m:\u001b[0m\u001b[0;34m\u001b[0m\u001b[0;34m\u001b[0m\u001b[0m\n\u001b[1;32m    168\u001b[0m         \u001b[0;32mif\u001b[0m \u001b[0mis_object_dtype\u001b[0m\u001b[0;34m(\u001b[0m\u001b[0mleft\u001b[0m\u001b[0;34m)\u001b[0m \u001b[0;32mor\u001b[0m \u001b[0mis_object_dtype\u001b[0m\u001b[0;34m(\u001b[0m\u001b[0mright\u001b[0m\u001b[0;34m)\u001b[0m \u001b[0;32mand\u001b[0m \u001b[0;32mnot\u001b[0m \u001b[0mis_cmp\u001b[0m\u001b[0;34m:\u001b[0m\u001b[0;34m\u001b[0m\u001b[0;34m\u001b[0m\u001b[0m\n",
      "\u001b[0;31mUFuncTypeError\u001b[0m: ufunc 'add' did not contain a loop with signature matching types (dtype('<U21'), dtype('<U21')) -> dtype('<U21')"
     ]
    }
   ],
   "source": [
    "f = '../data/001_raw/Casablanca.epw'\n",
    "clima = pd.read_csv(f,skiprows=8,header=None,names=nombres,usecols=range(27))\n",
    "clima['tiempo'] = clima.Year + '-' + clima.Month \n"
   ]
  },
  {
   "cell_type": "code",
   "execution_count": 87,
   "metadata": {},
   "outputs": [
    {
     "data": {
      "text/plain": [
       "0       19580001/01/580200\n",
       "1       19580001/01/580300\n",
       "2       19580001/01/580400\n",
       "3       19580001/01/580500\n",
       "4       19580001/01/580600\n",
       "               ...        \n",
       "8755    19610012/31/612100\n",
       "8756    19610012/31/612200\n",
       "8757    19610012/31/612300\n",
       "8758    19620001/01/620000\n",
       "8759    19620001/01/620100\n",
       "Name: tiempo, Length: 8760, dtype: object"
      ]
     },
     "execution_count": 87,
     "metadata": {},
     "output_type": "execute_result"
    }
   ],
   "source": [
    "clima.tiempo"
   ]
  },
  {
   "cell_type": "code",
   "execution_count": null,
   "metadata": {},
   "outputs": [],
   "source": [
    "meses = calendar.month_name[1:]\n",
    "meses = [\"Ene\",\"Feb\",\"Mar\",\"Abr\",\"May\",\"Jun\",\"Jul\",\"Ago\",\"Sep\",\"Oct\",\"Nov\",\"Dic\"]\n",
    "# meses"
   ]
  },
  {
   "cell_type": "code",
   "execution_count": null,
   "metadata": {},
   "outputs": [],
   "source": [
    "To = clima.To_ruoa.groupby(by=[clima.index.month,clima.index.hour]).mean().unstack().T\n",
    "# To = pd.concat([To[6:],To[0:5]],axis=0)\n",
    "\n",
    "hr = clima.rh_ruoa.groupby(by=[clima.index.month,clima.index.hour]).mean().unstack().T\n",
    "# hr = pd.concat([hr[6:],hr[0:5]],axis=0)\n",
    "\n",
    "Ig = clima.Ig_ruoa.groupby(by=[clima.index.month,clima.index.hour]).mean().unstack().T"
   ]
  },
  {
   "cell_type": "code",
   "execution_count": null,
   "metadata": {},
   "outputs": [],
   "source": [
    "fig, ax = plt.subplots(figsize=(15,10))\n",
    "p = ax.imshow(To,cmap=\"jet\",aspect=.2,vmin=10, vmax=35)\n",
    "\n",
    "ax.set_xticks(np.arange(0,12,1))\n",
    "ax.set_ylim(0,24)\n",
    "ax.set_yticks(np.linspace(0,24,5))\n",
    "ax.set_xticklabels(meses)\n",
    "ax.set_ylabel(\"Hora [h]\")\n",
    "ax.set_xlabel(\"Mes\")\n",
    "ax.set_title(\"Temperatura del aire\")\n",
    "ax.grid()\n",
    "fig.colorbar(p,shrink=0.48,ticks=np.arange(5,36,5),label=\"Temperatura [$^oC$]\")"
   ]
  },
  {
   "cell_type": "code",
   "execution_count": null,
   "metadata": {},
   "outputs": [],
   "source": [
    "fig, ax = plt.subplots(figsize=(15,10))\n",
    "p = ax.imshow(hr,cmap=\"jet\",aspect=.2,vmin=0,vmax=100)\n",
    "ax.set_xticks(np.arange(0,12,1))\n",
    "ax.set_ylim(0,24)\n",
    "ax.set_yticks(np.linspace(0,24,5))\n",
    "ax.set_xticklabels(meses)\n",
    "ax.set_ylabel(\"Hora [h]\")\n",
    "ax.set_xlabel(\"Mes\")\n",
    "ax.set_title(\"Humedad relativa\")\n",
    "ax.grid()\n",
    "\n",
    "fig.colorbar(p,shrink=0.48,ticks=np.arange(0,101,20),label=\"HR [$\\%$]\")"
   ]
  },
  {
   "cell_type": "code",
   "execution_count": null,
   "metadata": {},
   "outputs": [],
   "source": [
    "fig, ax = plt.subplots(figsize=(15,10))\n",
    "p = ax.imshow(Ig,cmap=\"jet\",aspect=.2,vmin=0,vmax=1200)\n",
    "ax.set_xticks(np.arange(0,12,1))\n",
    "ax.set_ylim(0,24)\n",
    "ax.set_yticks(np.linspace(0,24,5))\n",
    "ax.set_xticklabels(meses)\n",
    "ax.set_ylabel(\"Hora [h]\")\n",
    "ax.set_xlabel(\"Mes\")\n",
    "ax.set_title(\"Irradiancia global\")\n",
    "ax.grid()\n",
    "\n",
    "fig.colorbar(p,shrink=0.48,ticks=np.arange(0,1201,200),label=\"Ig[$W/m^2$]\")"
   ]
  },
  {
   "cell_type": "code",
   "execution_count": null,
   "metadata": {},
   "outputs": [],
   "source": [
    "fig, ax1 = plt.subplots(figsize=(12,6))\n",
    "\n",
    "fecha1 = parse( '2018-05-28')\n",
    "fecha2 = fecha1 + pd.Timedelta(\"3D\")\n",
    "\n",
    "ax1.set_xlim(fecha1,fecha2)\n",
    "ax2 = ax1.twinx()\n",
    "\n",
    "ax1.plot(clima.To_ruoa,'b-',label=\"To\")\n",
    "ax2.plot(clima.rh_ruoa,'r-')\n",
    "\n",
    "ax1.set_ylabel(\"Temperatura [$^oC$]\"    ,color=\"b\")\n",
    "ax2.set_ylabel(\"Humedad relativa [$\\%$]\",color='r',)\n",
    "ax1.set_xlabel(\"Fecha [mm:dd hh]\")\n",
    "ax1.set_ylim(10,35)\n",
    "ax2.set_ylim(0,100)\n",
    "ax1.grid()\n",
    "ax2.tick_params(axis='y', colors='r')\n",
    "ax1.tick_params(axis='y', colors='b')\n",
    "\n",
    "\n",
    "\n",
    "# fig.label()"
   ]
  },
  {
   "cell_type": "code",
   "execution_count": null,
   "metadata": {},
   "outputs": [],
   "source": [
    "ax = WindroseAxes.from_ax(rmax=30,theta_labels=[\"E\", \"N-E\", \"N\", \"N-O\", \"O\", \"S-O\", \"S\", \"S-E\"])\n",
    "ax.set_title('Anual')\n",
    "rangos = [0., 0.1,1.34,2.67,4]\n",
    "\n",
    "ax.bar(clima.wd_ruoa,clima.ws_ruoa, bins= rangos,normed=True, opening=.8, edgecolor='white')\n",
    "ax.set_legend()\n",
    "\n"
   ]
  },
  {
   "cell_type": "code",
   "execution_count": null,
   "metadata": {},
   "outputs": [],
   "source": [
    "noche = pd.concat([clima.between_time('0:00:00','7:59:59'),clima.between_time('20:00:01','23:59:59')],axis=0)\n",
    "dia   = pd.concat([clima.between_time('8:00:00','20:00:00')],axis=0)"
   ]
  },
  {
   "cell_type": "code",
   "execution_count": null,
   "metadata": {},
   "outputs": [],
   "source": [
    "ax = WindroseAxes.from_ax(rmax=30,theta_labels=[\"E\", \"N-E\", \"N\", \"N-O\", \"O\", \"S-O\", \"S\", \"S-E\"])\n",
    "ax.set_title('Día')\n",
    "ax.bar(dia.wd_ruoa, dia.ws_ruoa, bins= rangos,normed=True, opening=.8, edgecolor='white')\n",
    "ax.set_legend()\n"
   ]
  },
  {
   "cell_type": "code",
   "execution_count": null,
   "metadata": {},
   "outputs": [],
   "source": [
    "ax = WindroseAxes.from_ax(rmax=30,theta_labels=[\"E\", \"N-E\", \"N\", \"N-O\", \"O\", \"S-O\", \"S\", \"S-E\"])\n",
    "ax.set_title('Noche')\n",
    "ax.bar(noche.wd_ruoa, noche.ws_ruoa, bins= rangos,normed=True, opening=.8, edgecolor='white')\n",
    "ax.set_legend()\n"
   ]
  },
  {
   "cell_type": "code",
   "execution_count": null,
   "metadata": {},
   "outputs": [],
   "source": []
  },
  {
   "cell_type": "code",
   "execution_count": null,
   "metadata": {},
   "outputs": [],
   "source": []
  },
  {
   "cell_type": "code",
   "execution_count": null,
   "metadata": {},
   "outputs": [],
   "source": []
  },
  {
   "cell_type": "code",
   "execution_count": null,
   "metadata": {
    "scrolled": false
   },
   "outputs": [],
   "source": [
    "fig, ax1 = plt.subplots(12,1,figsize=(16,40))\n",
    "meses = calendar.month_name[1:]\n",
    "for i,mes in enumerate(meses):\n",
    "    ax1[i].set_title(mes)\n",
    "    ax1[i].set_ylim(0,35)\n",
    "    ax1[i].plot(clima[clima.index.month_name()==mes].To_ruoa   ,'k--')\n",
    "    \n",
    "#     ax[i] = ax1[i].twinx()\n",
    "#     ax[i].plot(clima[clima.index.month_name()==mes].rh_ruoa,'r--')\n",
    "#     ax[i].set_ylim(0,100)\n",
    "    \n",
    "#     \n",
    "    ax1[i].grid()"
   ]
  },
  {
   "cell_type": "code",
   "execution_count": null,
   "metadata": {
    "scrolled": false
   },
   "outputs": [],
   "source": [
    "fig, ax = plt.subplots(12,1,figsize=(16,40))\n",
    "meses = calendar.month_name[1:]\n",
    "\n",
    "for i,mes in enumerate(meses):\n",
    "    ax[i].plot(clima[clima.index.month_name()==mes].rh_ruoa,'k--')\n",
    "    \n",
    "    ax[i].grid()\n",
    "    ax[i].set_title(mes)\n",
    "    ax[i].set_ylim(0,100)"
   ]
  },
  {
   "cell_type": "code",
   "execution_count": null,
   "metadata": {
    "scrolled": false
   },
   "outputs": [],
   "source": [
    "fig, ax = plt.subplots(12,1,figsize=(16,40))\n",
    "meses = calendar.month_name[1:]\n",
    "\n",
    "for i,mes in enumerate(meses):\n",
    "    ax[i].plot(clima[clima.index.month_name()==mes].Ig_ruoa,'y-')\n",
    "    \n",
    "    ax[i].grid()\n",
    "    ax[i].set_title(mes)\n",
    "    ax[i].set_ylim(0,1200)"
   ]
  },
  {
   "cell_type": "code",
   "execution_count": null,
   "metadata": {},
   "outputs": [],
   "source": []
  }
 ],
 "metadata": {
  "kernelspec": {
   "display_name": "Python 3",
   "language": "python",
   "name": "python3"
  },
  "language_info": {
   "codemirror_mode": {
    "name": "ipython",
    "version": 3
   },
   "file_extension": ".py",
   "mimetype": "text/x-python",
   "name": "python",
   "nbconvert_exporter": "python",
   "pygments_lexer": "ipython3",
   "version": "3.9.7"
  }
 },
 "nbformat": 4,
 "nbformat_minor": 2
}
