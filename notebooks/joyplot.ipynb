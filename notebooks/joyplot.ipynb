{
 "cells": [
  {
   "cell_type": "code",
   "execution_count": 3,
   "metadata": {},
   "outputs": [],
   "source": [
    "import joypy\n",
    "import seaborn as sns\n",
    "import pandas as pd"
   ]
  },
  {
   "cell_type": "code",
   "execution_count": 6,
   "metadata": {},
   "outputs": [],
   "source": [
    "df = pd.read_csv('../data/001_raw/temixco.csv')"
   ]
  },
  {
   "cell_type": "code",
   "execution_count": null,
   "metadata": {},
   "outputs": [
    {
     "name": "stderr",
     "output_type": "stream",
     "text": [
      "/Users/gbv/opt/anaconda3/lib/python3.8/site-packages/joypy/joyplot.py:238: UserWarning: At least a column/group has no numeric values.\n",
      "  warn(\"At least a column/group has no numeric values.\")\n",
      "/Users/gbv/opt/anaconda3/lib/python3.8/site-packages/joypy/joyplot.py:286: UserWarning: The data contains a group with a single distinct value (0.0) having infinite probability density. Consider using a different visualization.\n",
      "  warnings.warn(\"The data contains a group with a single distinct value ({}) \"\n",
      "/Users/gbv/opt/anaconda3/lib/python3.8/site-packages/joypy/joyplot.py:286: UserWarning: The data contains a group with a single distinct value (0.0) having infinite probability density. Consider using a different visualization.\n",
      "  warnings.warn(\"The data contains a group with a single distinct value ({}) \"\n",
      "/Users/gbv/opt/anaconda3/lib/python3.8/site-packages/joypy/joyplot.py:286: UserWarning: The data contains a group with a single distinct value (0.0) having infinite probability density. Consider using a different visualization.\n",
      "  warnings.warn(\"The data contains a group with a single distinct value ({}) \"\n",
      "/Users/gbv/opt/anaconda3/lib/python3.8/site-packages/joypy/joyplot.py:286: UserWarning: The data contains a group with a single distinct value (0.0) having infinite probability density. Consider using a different visualization.\n",
      "  warnings.warn(\"The data contains a group with a single distinct value ({}) \"\n"
     ]
    }
   ],
   "source": [
    "fig, axes = joypy.joyplot(df,by='To')\n"
   ]
  }
 ],
 "metadata": {
  "kernelspec": {
   "display_name": "Python 3",
   "language": "python",
   "name": "python3"
  },
  "language_info": {
   "codemirror_mode": {
    "name": "ipython",
    "version": 3
   },
   "file_extension": ".py",
   "mimetype": "text/x-python",
   "name": "python",
   "nbconvert_exporter": "python",
   "pygments_lexer": "ipython3",
   "version": "3.8.5"
  }
 },
 "nbformat": 4,
 "nbformat_minor": 4
}
