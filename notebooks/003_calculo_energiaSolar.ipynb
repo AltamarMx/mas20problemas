{
 "cells": [
  {
   "cell_type": "markdown",
   "id": "dadb1bc0",
   "metadata": {},
   "source": [
    "# Cálculo de la energía solar"
   ]
  },
  {
   "cell_type": "code",
   "execution_count": null,
   "id": "1a410d13",
   "metadata": {},
   "outputs": [],
   "source": [
    "import pandas as pd\n",
    "import matplotlib.pyplot as plt\n",
    "from scipy import integrate"
   ]
  },
  {
   "cell_type": "markdown",
   "id": "72134f83",
   "metadata": {},
   "source": [
    "Como el ejemplo lo habiamos hecho en el crash además de agregar que se guarde en la ruta especificada, agregué la integración con scipy para:\n",
    "1. mostrar la importacion de un módulo en específico\n",
    "2. ver alternativas con paqueterias\n"
   ]
  },
  {
   "cell_type": "code",
   "execution_count": null,
   "id": "3d65bff5",
   "metadata": {},
   "outputs": [],
   "source": [
    "sol = pd.read_csv(\"../data/001_raw/temixco.csv\", index_col=0, usecols=[0,2], parse_dates=True)\n",
    "sol.head()"
   ]
  },
  {
   "cell_type": "code",
   "execution_count": null,
   "id": "4e7fa003",
   "metadata": {},
   "outputs": [],
   "source": [
    "sol.info()"
   ]
  },
  {
   "cell_type": "code",
   "execution_count": null,
   "id": "7dd7b295",
   "metadata": {},
   "outputs": [],
   "source": [
    "sol.index"
   ]
  },
  {
   "cell_type": "code",
   "execution_count": null,
   "id": "4de1a604",
   "metadata": {},
   "outputs": [],
   "source": [
    "sol.dtypes"
   ]
  },
  {
   "cell_type": "markdown",
   "id": "79b0996e",
   "metadata": {},
   "source": [
    "$$E = \\sum I_g \\triangle t$$"
   ]
  },
  {
   "cell_type": "code",
   "execution_count": null,
   "id": "7c6283f7",
   "metadata": {},
   "outputs": [],
   "source": [
    "sol.isna().sum()"
   ]
  },
  {
   "cell_type": "code",
   "execution_count": null,
   "id": "937a7813",
   "metadata": {},
   "outputs": [],
   "source": [
    "sol.dropna(inplace=True)\n",
    "sol"
   ]
  },
  {
   "cell_type": "code",
   "execution_count": null,
   "id": "6f107747",
   "metadata": {},
   "outputs": [],
   "source": [
    "energia = sol.resample('Y').sum()*(1/6)"
   ]
  },
  {
   "cell_type": "code",
   "execution_count": null,
   "id": "96ee4f09",
   "metadata": {},
   "outputs": [],
   "source": [
    "energia.plot(kind='bar')"
   ]
  },
  {
   "cell_type": "code",
   "execution_count": null,
   "id": "764c1bef",
   "metadata": {},
   "outputs": [],
   "source": [
    "energia.to_csv(\"../data/002_processed/anual.csv\")"
   ]
  },
  {
   "cell_type": "code",
   "execution_count": null,
   "id": "e1a41b6c",
   "metadata": {
    "scrolled": true
   },
   "outputs": [],
   "source": [
    "sol.resample('Y').sum()*(1/6)"
   ]
  },
  {
   "cell_type": "code",
   "execution_count": null,
   "id": "89b5c103",
   "metadata": {},
   "outputs": [],
   "source": [
    "sol.resample('M').sum()*(1/6)"
   ]
  },
  {
   "cell_type": "code",
   "execution_count": null,
   "id": "208279c5",
   "metadata": {},
   "outputs": [],
   "source": [
    "sol.resample('D').sum()*(1/6)"
   ]
  },
  {
   "cell_type": "code",
   "execution_count": null,
   "id": "8693be14",
   "metadata": {},
   "outputs": [],
   "source": [
    "def calcular_energia(df, time, nombre):\n",
    "    \"\"\"Guarda los valores en un csv con el nombre especificado en la ruta indicada \n",
    "    Input:  df, \n",
    "            time = periodo, string\n",
    "            nombre = nombre del archivo en csv, string\n",
    "    Output: archivo csv, \n",
    "            df con los valores de energía en cada periodo\n",
    "    \"\"\"\n",
    "    df.to_csv(f\"../data/002_processed/{nombre}.csv\")\n",
    "    return df.resample(time).sum()*(1/6)\n"
   ]
  },
  {
   "cell_type": "code",
   "execution_count": null,
   "id": "27f3b9af",
   "metadata": {},
   "outputs": [],
   "source": [
    "calcular_energia(sol,\"Y\",\"anual\")"
   ]
  },
  {
   "cell_type": "code",
   "execution_count": null,
   "id": "42f35d12",
   "metadata": {
    "scrolled": true
   },
   "outputs": [],
   "source": [
    "%%time\n",
    "## Usando scipy\n",
    "integrate.trapezoid(y = sol.Ig)*(1/6)"
   ]
  },
  {
   "cell_type": "code",
   "execution_count": null,
   "id": "29955f4b",
   "metadata": {},
   "outputs": [],
   "source": [
    "%%time\n",
    "sol.resample('Y').sum()*(1/6)"
   ]
  },
  {
   "cell_type": "code",
   "execution_count": null,
   "id": "88b940b0",
   "metadata": {},
   "outputs": [],
   "source": [
    "%%time\n",
    "mes = 1\n",
    "while mes <= 12:\n",
    "    print(integrate.trapezoid(y=sol.loc[f\"2018-{mes}\"].Ig)*(1/6))\n",
    "    mes+=1"
   ]
  },
  {
   "cell_type": "code",
   "execution_count": null,
   "id": "6606f1b2",
   "metadata": {},
   "outputs": [],
   "source": [
    "%%time\n",
    "sol.resample('M').sum()*(1/6)"
   ]
  },
  {
   "cell_type": "code",
   "execution_count": null,
   "id": "8dda2a79",
   "metadata": {},
   "outputs": [],
   "source": []
  }
 ],
 "metadata": {
  "kernelspec": {
   "display_name": "Python 3",
   "language": "python",
   "name": "python3"
  },
  "language_info": {
   "codemirror_mode": {
    "name": "ipython",
    "version": 3
   },
   "file_extension": ".py",
   "mimetype": "text/x-python",
   "name": "python",
   "nbconvert_exporter": "python",
   "pygments_lexer": "ipython3",
   "version": "3.9.5"
  }
 },
 "nbformat": 4,
 "nbformat_minor": 5
}
