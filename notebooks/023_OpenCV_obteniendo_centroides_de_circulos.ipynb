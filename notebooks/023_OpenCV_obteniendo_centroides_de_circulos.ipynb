{
 "cells": [
  {
   "cell_type": "markdown",
   "id": "bc78a393",
   "metadata": {},
   "source": [
    "## OpenCV\n"
   ]
  },
  {
   "cell_type": "markdown",
   "id": "1ef4ded9",
   "metadata": {},
   "source": [
    "OpenCV (Open Source Computer Vision) es una librería de programación de código abierto dirigida principalmente a la visión por computador en tiempo real."
   ]
  },
  {
   "cell_type": "markdown",
   "id": "e819948e",
   "metadata": {},
   "source": [
    "### Las áreas de aplicación de OpenCV incluyen:\n",
    "\n",
    "Odometría visual, Sistema de reconocimiento facial, Reconocimiento de gestos, La interacción hombre-ordenador (HCI), Robótica móvil, Comprensión del movimiento, Identificación del objeto, Segmentación y reconocimiento, Visión estereoscópica: percepción de profundidad desde 2 cámaras, Estructura de movimiento (SFM), Rastreo de movimiento, Realidad aumentada, Aprendizaje del árbol de decisiones, Algoritmo de maximización de expectativas, Algoritmo de vecino más cercano k, Clasificador Bayes, Redes neuronales artificiales, Soporte de máquinas vectoriales, Redes neuronales profundas"
   ]
  },
  {
   "cell_type": "code",
   "execution_count": null,
   "id": "39a756a4",
   "metadata": {},
   "outputs": [],
   "source": []
  },
  {
   "cell_type": "markdown",
   "id": "55954dd0",
   "metadata": {},
   "source": [
    "### Instalación del paquete\n",
    "\n",
    "pip install opencv-python"
   ]
  },
  {
   "cell_type": "code",
   "execution_count": 1,
   "id": "cb2c25ed",
   "metadata": {},
   "outputs": [],
   "source": [
    "import cv2\n",
    "import numpy as np"
   ]
  },
  {
   "cell_type": "markdown",
   "id": "13b72181",
   "metadata": {},
   "source": [
    "#### Obteniendo ancho y alto de la imagen"
   ]
  },
  {
   "cell_type": "code",
   "execution_count": 2,
   "id": "5c6b555f",
   "metadata": {},
   "outputs": [],
   "source": [
    "imagen = cv2.imread('../figs/Logo.png')\n",
    "ancho = imagen.shape[1] #columnas\n",
    "alto = imagen.shape[0] # filas"
   ]
  },
  {
   "cell_type": "markdown",
   "id": "6afb25ae",
   "metadata": {},
   "source": [
    "#### Rotación"
   ]
  },
  {
   "cell_type": "code",
   "execution_count": 3,
   "id": "7caa3189",
   "metadata": {},
   "outputs": [],
   "source": [
    "# Rotación\n",
    "rotacion = cv2.getRotationMatrix2D((ancho//2,alto//2),180,1)\n",
    "imagenSalida = cv2.warpAffine(imagen,rotacion,(ancho,alto))"
   ]
  },
  {
   "cell_type": "markdown",
   "id": "9275d664",
   "metadata": {},
   "source": [
    "#### Mostrando imagen de entrada y salida"
   ]
  },
  {
   "cell_type": "code",
   "execution_count": 4,
   "id": "6ba4d5cb",
   "metadata": {},
   "outputs": [],
   "source": [
    "#cv2.imshow('Imagen original',imagen)\n",
    "#cv2.waitKey(0)\n",
    "#cv2.destroyAllWindows()"
   ]
  },
  {
   "cell_type": "code",
   "execution_count": 5,
   "id": "77b0edf7",
   "metadata": {},
   "outputs": [
    {
     "data": {
      "text/plain": [
       "True"
      ]
     },
     "execution_count": 5,
     "metadata": {},
     "output_type": "execute_result"
    }
   ],
   "source": [
    "#cv2.imshow('Imagen con rotación',imagenSalida)\n",
    "cv2.imwrite('../figs/Logo_rotacion.png', imagenSalida)\n",
    "#cv2.waitKey(0)\n",
    "#cv2.destroyAllWindows()"
   ]
  },
  {
   "cell_type": "markdown",
   "id": "b44795ef",
   "metadata": {},
   "source": [
    "#### Escalando una imagen"
   ]
  },
  {
   "cell_type": "code",
   "execution_count": 6,
   "id": "6ec4d4c7",
   "metadata": {},
   "outputs": [],
   "source": [
    "imagenSalida = cv2.resize(imagen,(300,400), interpolation=cv2.INTER_CUBIC)\n",
    "\n",
    "#cv2.imshow('Imagen de salida',imagenSalida)\n",
    "#cv2.waitKey(0)\n",
    "#cv2.destroyAllWindows()"
   ]
  },
  {
   "cell_type": "markdown",
   "id": "c206c931",
   "metadata": {},
   "source": [
    "#### Escribiendo la imagen de salida"
   ]
  },
  {
   "cell_type": "code",
   "execution_count": 7,
   "id": "b8fff7af",
   "metadata": {},
   "outputs": [
    {
     "data": {
      "text/plain": [
       "True"
      ]
     },
     "execution_count": 7,
     "metadata": {},
     "output_type": "execute_result"
    }
   ],
   "source": [
    "cv2.imwrite('../figs/Logo_resize.png', imagenSalida)"
   ]
  },
  {
   "cell_type": "markdown",
   "id": "cc8ebc71",
   "metadata": {},
   "source": [
    "#### Detectando círculos y sus centroides"
   ]
  },
  {
   "cell_type": "code",
   "execution_count": 8,
   "id": "c001534a",
   "metadata": {},
   "outputs": [],
   "source": [
    "t2 = cv2.imread('../figs/Logo_resize.png')\n",
    "thresh = cv2.cvtColor(t2, cv2.COLOR_BGR2GRAY)\n",
    "thresh = cv2.adaptiveThreshold(thresh, 255, cv2.ADAPTIVE_THRESH_MEAN_C, cv2.THRESH_BINARY_INV, 101, 19)\n",
    "count, labels, stats, centroids = cv2.connectedComponentsWithStats(thresh)\n",
    "for i in range(2,count):\n",
    "    t2 = cv2.circle(t2, (int(centroids[i,0]), int(centroids[i,1])), 0, (0, 255, 0, 0), 1)\n"
   ]
  },
  {
   "cell_type": "markdown",
   "id": "f7f95a02",
   "metadata": {},
   "source": [
    "#### Mostrando centroides de circulos"
   ]
  },
  {
   "cell_type": "code",
   "execution_count": 9,
   "id": "efba133c",
   "metadata": {},
   "outputs": [
    {
     "data": {
      "text/plain": [
       "True"
      ]
     },
     "execution_count": 9,
     "metadata": {},
     "output_type": "execute_result"
    }
   ],
   "source": [
    "#cv2.imshow('circles', thresh)\n",
    "\n",
    "#cv2.imshow('centers', t2)\n",
    "cv2.imwrite('../figs/Logo_centroides.png', t2)\n",
    "#cv2.waitKey(0)\n",
    "#cv2.destroyAllWindows()"
   ]
  },
  {
   "cell_type": "code",
   "execution_count": null,
   "id": "d7426afb",
   "metadata": {},
   "outputs": [],
   "source": []
  },
  {
   "cell_type": "code",
   "execution_count": null,
   "id": "50d9847b",
   "metadata": {},
   "outputs": [],
   "source": []
  }
 ],
 "metadata": {
  "kernelspec": {
   "display_name": "Python 3 (ipykernel)",
   "language": "python",
   "name": "python3"
  },
  "language_info": {
   "codemirror_mode": {
    "name": "ipython",
    "version": 3
   },
   "file_extension": ".py",
   "mimetype": "text/x-python",
   "name": "python",
   "nbconvert_exporter": "python",
   "pygments_lexer": "ipython3",
   "version": "3.9.7"
  }
 },
 "nbformat": 4,
 "nbformat_minor": 5
}
